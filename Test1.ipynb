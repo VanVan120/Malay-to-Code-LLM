{
 "cells": [
  {
   "cell_type": "code",
   "execution_count": 2,
   "id": "42121778",
   "metadata": {},
   "outputs": [
    {
     "name": "stdout",
     "output_type": "stream",
     "text": [
      "Collecting datasets\n",
      "  Downloading datasets-3.6.0-py3-none-any.whl.metadata (19 kB)\n",
      "Collecting transformers\n",
      "  Using cached transformers-4.52.4-py3-none-any.whl.metadata (38 kB)\n",
      "Collecting accelerate\n",
      "  Downloading accelerate-1.7.0-py3-none-any.whl.metadata (19 kB)\n",
      "Collecting peft\n",
      "  Downloading peft-0.15.2-py3-none-any.whl.metadata (13 kB)\n",
      "Collecting bitsandbytes\n",
      "  Downloading bitsandbytes-0.46.0-py3-none-win_amd64.whl.metadata (10 kB)\n",
      "Requirement already satisfied: filelock in c:\\users\\user\\anaconda3\\lib\\site-packages (from datasets) (3.13.1)\n",
      "Requirement already satisfied: numpy>=1.17 in c:\\users\\user\\anaconda3\\lib\\site-packages (from datasets) (1.26.4)\n",
      "Requirement already satisfied: pyarrow>=15.0.0 in c:\\users\\user\\anaconda3\\lib\\site-packages (from datasets) (16.1.0)\n",
      "Requirement already satisfied: dill<0.3.9,>=0.3.0 in c:\\users\\user\\anaconda3\\lib\\site-packages (from datasets) (0.3.8)\n",
      "Requirement already satisfied: pandas in c:\\users\\user\\anaconda3\\lib\\site-packages (from datasets) (2.2.2)\n",
      "Requirement already satisfied: requests>=2.32.2 in c:\\users\\user\\anaconda3\\lib\\site-packages (from datasets) (2.32.3)\n",
      "Requirement already satisfied: tqdm>=4.66.3 in c:\\users\\user\\anaconda3\\lib\\site-packages (from datasets) (4.66.5)\n",
      "Collecting xxhash (from datasets)\n",
      "  Downloading xxhash-3.5.0-cp312-cp312-win_amd64.whl.metadata (13 kB)\n",
      "Collecting multiprocess<0.70.17 (from datasets)\n",
      "  Downloading multiprocess-0.70.16-py312-none-any.whl.metadata (7.2 kB)\n",
      "Requirement already satisfied: fsspec<=2025.3.0,>=2023.1.0 in c:\\users\\user\\anaconda3\\lib\\site-packages (from fsspec[http]<=2025.3.0,>=2023.1.0->datasets) (2024.6.1)\n",
      "Collecting huggingface-hub>=0.24.0 (from datasets)\n",
      "  Using cached huggingface_hub-0.32.4-py3-none-any.whl.metadata (14 kB)\n",
      "Requirement already satisfied: packaging in c:\\users\\user\\anaconda3\\lib\\site-packages (from datasets) (24.1)\n",
      "Requirement already satisfied: pyyaml>=5.1 in c:\\users\\user\\anaconda3\\lib\\site-packages (from datasets) (6.0.1)\n",
      "Requirement already satisfied: regex!=2019.12.17 in c:\\users\\user\\anaconda3\\lib\\site-packages (from transformers) (2024.9.11)\n",
      "Collecting tokenizers<0.22,>=0.21 (from transformers)\n",
      "  Using cached tokenizers-0.21.1-cp39-abi3-win_amd64.whl.metadata (6.9 kB)\n",
      "Collecting safetensors>=0.4.3 (from transformers)\n",
      "  Using cached safetensors-0.5.3-cp38-abi3-win_amd64.whl.metadata (3.9 kB)\n",
      "Requirement already satisfied: psutil in c:\\users\\user\\anaconda3\\lib\\site-packages (from accelerate) (5.9.0)\n",
      "Collecting torch>=2.0.0 (from accelerate)\n",
      "  Downloading torch-2.7.1-cp312-cp312-win_amd64.whl.metadata (28 kB)\n",
      "Requirement already satisfied: aiohttp!=4.0.0a0,!=4.0.0a1 in c:\\users\\user\\anaconda3\\lib\\site-packages (from fsspec[http]<=2025.3.0,>=2023.1.0->datasets) (3.10.5)\n",
      "Requirement already satisfied: typing-extensions>=3.7.4.3 in c:\\users\\user\\anaconda3\\lib\\site-packages (from huggingface-hub>=0.24.0->datasets) (4.14.0)\n",
      "Requirement already satisfied: charset-normalizer<4,>=2 in c:\\users\\user\\anaconda3\\lib\\site-packages (from requests>=2.32.2->datasets) (3.3.2)\n",
      "Requirement already satisfied: idna<4,>=2.5 in c:\\users\\user\\anaconda3\\lib\\site-packages (from requests>=2.32.2->datasets) (3.7)\n",
      "Requirement already satisfied: urllib3<3,>=1.21.1 in c:\\users\\user\\anaconda3\\lib\\site-packages (from requests>=2.32.2->datasets) (2.2.3)\n",
      "Requirement already satisfied: certifi>=2017.4.17 in c:\\users\\user\\anaconda3\\lib\\site-packages (from requests>=2.32.2->datasets) (2024.8.30)\n",
      "Collecting sympy>=1.13.3 (from torch>=2.0.0->accelerate)\n",
      "  Using cached sympy-1.14.0-py3-none-any.whl.metadata (12 kB)\n",
      "Requirement already satisfied: networkx in c:\\users\\user\\anaconda3\\lib\\site-packages (from torch>=2.0.0->accelerate) (3.3)\n",
      "Requirement already satisfied: jinja2 in c:\\users\\user\\anaconda3\\lib\\site-packages (from torch>=2.0.0->accelerate) (3.1.4)\n",
      "Requirement already satisfied: setuptools in c:\\users\\user\\anaconda3\\lib\\site-packages (from torch>=2.0.0->accelerate) (75.1.0)\n",
      "Requirement already satisfied: colorama in c:\\users\\user\\anaconda3\\lib\\site-packages (from tqdm>=4.66.3->datasets) (0.4.6)\n",
      "Requirement already satisfied: python-dateutil>=2.8.2 in c:\\users\\user\\anaconda3\\lib\\site-packages (from pandas->datasets) (2.9.0.post0)\n",
      "Requirement already satisfied: pytz>=2020.1 in c:\\users\\user\\anaconda3\\lib\\site-packages (from pandas->datasets) (2024.1)\n",
      "Requirement already satisfied: tzdata>=2022.7 in c:\\users\\user\\anaconda3\\lib\\site-packages (from pandas->datasets) (2023.3)\n",
      "Requirement already satisfied: aiohappyeyeballs>=2.3.0 in c:\\users\\user\\anaconda3\\lib\\site-packages (from aiohttp!=4.0.0a0,!=4.0.0a1->fsspec[http]<=2025.3.0,>=2023.1.0->datasets) (2.4.0)\n",
      "Requirement already satisfied: aiosignal>=1.1.2 in c:\\users\\user\\anaconda3\\lib\\site-packages (from aiohttp!=4.0.0a0,!=4.0.0a1->fsspec[http]<=2025.3.0,>=2023.1.0->datasets) (1.2.0)\n",
      "Requirement already satisfied: attrs>=17.3.0 in c:\\users\\user\\anaconda3\\lib\\site-packages (from aiohttp!=4.0.0a0,!=4.0.0a1->fsspec[http]<=2025.3.0,>=2023.1.0->datasets) (23.1.0)\n",
      "Requirement already satisfied: frozenlist>=1.1.1 in c:\\users\\user\\anaconda3\\lib\\site-packages (from aiohttp!=4.0.0a0,!=4.0.0a1->fsspec[http]<=2025.3.0,>=2023.1.0->datasets) (1.4.0)\n",
      "Requirement already satisfied: multidict<7.0,>=4.5 in c:\\users\\user\\anaconda3\\lib\\site-packages (from aiohttp!=4.0.0a0,!=4.0.0a1->fsspec[http]<=2025.3.0,>=2023.1.0->datasets) (6.0.4)\n",
      "Requirement already satisfied: yarl<2.0,>=1.0 in c:\\users\\user\\anaconda3\\lib\\site-packages (from aiohttp!=4.0.0a0,!=4.0.0a1->fsspec[http]<=2025.3.0,>=2023.1.0->datasets) (1.11.0)\n",
      "Requirement already satisfied: six>=1.5 in c:\\users\\user\\anaconda3\\lib\\site-packages (from python-dateutil>=2.8.2->pandas->datasets) (1.16.0)\n",
      "Requirement already satisfied: mpmath<1.4,>=1.1.0 in c:\\users\\user\\anaconda3\\lib\\site-packages (from sympy>=1.13.3->torch>=2.0.0->accelerate) (1.3.0)\n",
      "Requirement already satisfied: MarkupSafe>=2.0 in c:\\users\\user\\anaconda3\\lib\\site-packages (from jinja2->torch>=2.0.0->accelerate) (2.1.3)\n",
      "Downloading datasets-3.6.0-py3-none-any.whl (491 kB)\n",
      "Using cached transformers-4.52.4-py3-none-any.whl (10.5 MB)\n",
      "Downloading accelerate-1.7.0-py3-none-any.whl (362 kB)\n",
      "Downloading peft-0.15.2-py3-none-any.whl (411 kB)\n",
      "Downloading bitsandbytes-0.46.0-py3-none-win_amd64.whl (66.5 MB)\n",
      "   ---------------------------------------- 0.0/66.5 MB ? eta -:--:--\n",
      "   ---- ----------------------------------- 6.8/66.5 MB 32.3 MB/s eta 0:00:02\n",
      "   --------- ------------------------------ 15.7/66.5 MB 36.7 MB/s eta 0:00:02\n",
      "   -------------- ------------------------- 24.6/66.5 MB 38.1 MB/s eta 0:00:02\n",
      "   -------------------- ------------------- 33.8/66.5 MB 39.1 MB/s eta 0:00:01\n",
      "   ------------------------- -------------- 42.5/66.5 MB 40.3 MB/s eta 0:00:01\n",
      "   ------------------------------- -------- 51.9/66.5 MB 40.8 MB/s eta 0:00:01\n",
      "   ------------------------------------ --- 61.1/66.5 MB 41.4 MB/s eta 0:00:01\n",
      "   ---------------------------------------  66.3/66.5 MB 40.7 MB/s eta 0:00:01\n",
      "   ---------------------------------------- 66.5/66.5 MB 38.2 MB/s eta 0:00:00\n",
      "Using cached huggingface_hub-0.32.4-py3-none-any.whl (512 kB)\n",
      "Downloading multiprocess-0.70.16-py312-none-any.whl (146 kB)\n",
      "Using cached safetensors-0.5.3-cp38-abi3-win_amd64.whl (308 kB)\n",
      "Using cached tokenizers-0.21.1-cp39-abi3-win_amd64.whl (2.4 MB)\n",
      "Downloading torch-2.7.1-cp312-cp312-win_amd64.whl (216.1 MB)\n",
      "   ---------------------------------------- 0.0/216.1 MB ? eta -:--:--\n",
      "   - -------------------------------------- 9.2/216.1 MB 43.9 MB/s eta 0:00:05\n",
      "   --- ------------------------------------ 18.1/216.1 MB 43.8 MB/s eta 0:00:05\n",
      "   ----- ---------------------------------- 27.5/216.1 MB 43.6 MB/s eta 0:00:05\n",
      "   ------ --------------------------------- 37.5/216.1 MB 45.0 MB/s eta 0:00:04\n",
      "   -------- ------------------------------- 47.2/216.1 MB 45.5 MB/s eta 0:00:04\n",
      "   ---------- ----------------------------- 57.4/216.1 MB 45.7 MB/s eta 0:00:04\n",
      "   ------------ --------------------------- 67.4/216.1 MB 45.7 MB/s eta 0:00:04\n",
      "   -------------- ------------------------- 77.1/216.1 MB 45.9 MB/s eta 0:00:04\n",
      "   ---------------- ----------------------- 87.6/216.1 MB 46.2 MB/s eta 0:00:03\n",
      "   ------------------ --------------------- 97.3/216.1 MB 46.0 MB/s eta 0:00:03\n",
      "   ------------------- ------------------- 107.5/216.1 MB 46.1 MB/s eta 0:00:03\n",
      "   -------------------- ------------------ 114.0/216.1 MB 44.9 MB/s eta 0:00:03\n",
      "   --------------------- ----------------- 116.4/216.1 MB 42.5 MB/s eta 0:00:03\n",
      "   ---------------------- ---------------- 122.9/216.1 MB 41.8 MB/s eta 0:00:03\n",
      "   ----------------------- --------------- 129.8/216.1 MB 41.0 MB/s eta 0:00:03\n",
      "   ------------------------ -------------- 136.8/216.1 MB 40.5 MB/s eta 0:00:02\n",
      "   -------------------------- ------------ 144.2/216.1 MB 40.0 MB/s eta 0:00:02\n",
      "   --------------------------- ----------- 151.8/216.1 MB 39.9 MB/s eta 0:00:02\n",
      "   ---------------------------- ---------- 159.4/216.1 MB 39.6 MB/s eta 0:00:02\n",
      "   ------------------------------ -------- 166.7/216.1 MB 39.3 MB/s eta 0:00:02\n",
      "   ------------------------------- ------- 172.0/216.1 MB 38.6 MB/s eta 0:00:02\n",
      "   -------------------------------- ------ 178.5/216.1 MB 38.3 MB/s eta 0:00:01\n",
      "   --------------------------------- ----- 186.4/216.1 MB 38.2 MB/s eta 0:00:01\n",
      "   ---------------------------------- ---- 193.5/216.1 MB 37.9 MB/s eta 0:00:01\n",
      "   ----------------------------------- --- 199.2/216.1 MB 37.9 MB/s eta 0:00:01\n",
      "   ------------------------------------- - 205.5/216.1 MB 37.3 MB/s eta 0:00:01\n",
      "   --------------------------------------  212.1/216.1 MB 37.0 MB/s eta 0:00:01\n",
      "   --------------------------------------  216.0/216.1 MB 36.9 MB/s eta 0:00:01\n",
      "   --------------------------------------  216.0/216.1 MB 36.9 MB/s eta 0:00:01\n",
      "   --------------------------------------- 216.1/216.1 MB 35.0 MB/s eta 0:00:00\n",
      "Downloading xxhash-3.5.0-cp312-cp312-win_amd64.whl (30 kB)\n",
      "Using cached sympy-1.14.0-py3-none-any.whl (6.3 MB)\n",
      "Installing collected packages: xxhash, sympy, safetensors, multiprocess, torch, huggingface-hub, tokenizers, bitsandbytes, accelerate, transformers, datasets, peft\n",
      "  Attempting uninstall: sympy\n",
      "    Found existing installation: sympy 1.13.2\n",
      "    Uninstalling sympy-1.13.2:\n",
      "      Successfully uninstalled sympy-1.13.2\n",
      "  Attempting uninstall: huggingface-hub\n",
      "    Found existing installation: huggingface-hub 0.21.4\n",
      "    Uninstalling huggingface-hub-0.21.4:\n",
      "      Successfully uninstalled huggingface-hub-0.21.4\n",
      "Successfully installed accelerate-1.7.0 bitsandbytes-0.46.0 datasets-3.6.0 huggingface-hub-0.32.4 multiprocess-0.70.16 peft-0.15.2 safetensors-0.5.3 sympy-1.14.0 tokenizers-0.21.1 torch-2.7.1 transformers-4.52.4 xxhash-3.5.0\n",
      "Note: you may need to restart the kernel to use updated packages.\n"
     ]
    }
   ],
   "source": [
    "pip install datasets transformers accelerate peft bitsandbytes\n"
   ]
  },
  {
   "cell_type": "code",
   "execution_count": 3,
   "id": "47226346",
   "metadata": {},
   "outputs": [
    {
     "name": "stdout",
     "output_type": "stream",
     "text": [
      "Requirement already satisfied: huggingface_hub in c:\\users\\user\\anaconda3\\lib\\site-packages (0.32.4)\n",
      "Requirement already satisfied: filelock in c:\\users\\user\\anaconda3\\lib\\site-packages (from huggingface_hub) (3.13.1)\n",
      "Requirement already satisfied: fsspec>=2023.5.0 in c:\\users\\user\\anaconda3\\lib\\site-packages (from huggingface_hub) (2024.6.1)\n",
      "Requirement already satisfied: packaging>=20.9 in c:\\users\\user\\anaconda3\\lib\\site-packages (from huggingface_hub) (24.1)\n",
      "Requirement already satisfied: pyyaml>=5.1 in c:\\users\\user\\anaconda3\\lib\\site-packages (from huggingface_hub) (6.0.1)\n",
      "Requirement already satisfied: requests in c:\\users\\user\\anaconda3\\lib\\site-packages (from huggingface_hub) (2.32.3)\n",
      "Requirement already satisfied: tqdm>=4.42.1 in c:\\users\\user\\anaconda3\\lib\\site-packages (from huggingface_hub) (4.66.5)\n",
      "Requirement already satisfied: typing-extensions>=3.7.4.3 in c:\\users\\user\\anaconda3\\lib\\site-packages (from huggingface_hub) (4.14.0)\n",
      "Requirement already satisfied: colorama in c:\\users\\user\\anaconda3\\lib\\site-packages (from tqdm>=4.42.1->huggingface_hub) (0.4.6)\n",
      "Requirement already satisfied: charset-normalizer<4,>=2 in c:\\users\\user\\anaconda3\\lib\\site-packages (from requests->huggingface_hub) (3.3.2)\n",
      "Requirement already satisfied: idna<4,>=2.5 in c:\\users\\user\\anaconda3\\lib\\site-packages (from requests->huggingface_hub) (3.7)\n",
      "Requirement already satisfied: urllib3<3,>=1.21.1 in c:\\users\\user\\anaconda3\\lib\\site-packages (from requests->huggingface_hub) (2.2.3)\n",
      "Requirement already satisfied: certifi>=2017.4.17 in c:\\users\\user\\anaconda3\\lib\\site-packages (from requests->huggingface_hub) (2024.8.30)\n",
      "Note: you may need to restart the kernel to use updated packages.\n"
     ]
    }
   ],
   "source": [
    "pip install huggingface_hub\n"
   ]
  },
  {
   "cell_type": "code",
<<<<<<< HEAD
   "execution_count": 12,
=======
   "execution_count": 4,
>>>>>>> f834d5c82a77f215c4dcc1c896af10708282dac5
   "id": "d631f892",
   "metadata": {},
   "outputs": [
    {
     "data": {
      "application/vnd.jupyter.widget-view+json": {
       "model_id": "7e26461abdec42b4aa55814a5ac828f0",
       "version_major": 2,
       "version_minor": 0
      },
      "text/plain": [
       "README.md:   0%|          | 0.00/3.32k [00:00<?, ?B/s]"
      ]
     },
     "metadata": {},
     "output_type": "display_data"
    },
    {
     "name": "stderr",
     "output_type": "stream",
     "text": [
<<<<<<< HEAD
      "c:\\Users\\user\\AppData\\Local\\Programs\\Python\\Python313\\Lib\\site-packages\\huggingface_hub\\file_download.py:143: UserWarning: `huggingface_hub` cache-system uses symlinks by default to efficiently store duplicated files but your machine does not support them in C:\\Users\\user\\.cache\\huggingface\\hub\\datasets--MohamedSaeed-dev--python-text-to-code. Caching files will still work but in a degraded version that might require more space on your disk. This warning can be disabled by setting the `HF_HUB_DISABLE_SYMLINKS_WARNING` environment variable. For more details, see https://huggingface.co/docs/huggingface_hub/how-to-cache#limitations.\n",
      "To support symlinks on Windows, you either need to activate Developer Mode or to run Python as an administrator. In order to activate developer mode, see this article: https://docs.microsoft.com/en-us/windows/apps/get-started/enable-your-device-for-development\n",
      "  warnings.warn(message)\n",
      "Generating train split: 100%|██████████| 9263/9263 [00:00<00:00, 179823.00 examples/s]\n",
      "Generating validation split: 100%|██████████| 472/472 [00:00<00:00, 45606.01 examples/s]\n",
      "Generating test split: 100%|██████████| 887/887 [00:00<00:00, 78824.26 examples/s]\n"
=======
      "c:\\Users\\User\\anaconda3\\Lib\\site-packages\\huggingface_hub\\file_download.py:143: UserWarning: `huggingface_hub` cache-system uses symlinks by default to efficiently store duplicated files but your machine does not support them in C:\\Users\\User\\.cache\\huggingface\\hub\\datasets--codeparrot--xlcost-text-to-code. Caching files will still work but in a degraded version that might require more space on your disk. This warning can be disabled by setting the `HF_HUB_DISABLE_SYMLINKS_WARNING` environment variable. For more details, see https://huggingface.co/docs/huggingface_hub/how-to-cache#limitations.\n",
      "To support symlinks on Windows, you either need to activate Developer Mode or to run Python as an administrator. In order to activate developer mode, see this article: https://docs.microsoft.com/en-us/windows/apps/get-started/enable-your-device-for-development\n",
      "  warnings.warn(message)\n"
>>>>>>> f834d5c82a77f215c4dcc1c896af10708282dac5
     ]
    },
    {
     "data": {
      "application/vnd.jupyter.widget-view+json": {
       "model_id": "e8a9d330243f4ff9b99ced3b94a17b4a",
       "version_major": 2,
       "version_minor": 0
      },
      "text/plain": [
       "xlcost-text-to-code.py:   0%|          | 0.00/7.61k [00:00<?, ?B/s]"
      ]
     },
     "metadata": {},
     "output_type": "display_data"
    },
    {
     "data": {
      "application/vnd.jupyter.widget-view+json": {
       "model_id": "83c711b7819f4a2c8cf94f6a93a446f5",
       "version_major": 2,
       "version_minor": 0
      },
      "text/plain": [
       "0000.parquet:   0%|          | 0.00/4.39M [00:00<?, ?B/s]"
      ]
     },
     "metadata": {},
     "output_type": "display_data"
    },
    {
     "data": {
      "application/vnd.jupyter.widget-view+json": {
       "model_id": "44533a4d197044dc82ebec21726f930f",
       "version_major": 2,
       "version_minor": 0
      },
      "text/plain": [
       "0000.parquet:   0%|          | 0.00/379k [00:00<?, ?B/s]"
      ]
     },
     "metadata": {},
     "output_type": "display_data"
    },
    {
     "data": {
      "application/vnd.jupyter.widget-view+json": {
       "model_id": "81564c477b7645e6a89fe8588cb11e3e",
       "version_major": 2,
       "version_minor": 0
      },
      "text/plain": [
       "0000.parquet:   0%|          | 0.00/210k [00:00<?, ?B/s]"
      ]
     },
     "metadata": {},
     "output_type": "display_data"
    },
    {
     "data": {
      "application/vnd.jupyter.widget-view+json": {
       "model_id": "48c3e0b98c754fa0a5f4fe3112524e6a",
       "version_major": 2,
       "version_minor": 0
      },
      "text/plain": [
       "Generating train split:   0%|          | 0/9797 [00:00<?, ? examples/s]"
      ]
     },
     "metadata": {},
     "output_type": "display_data"
    },
    {
     "data": {
      "application/vnd.jupyter.widget-view+json": {
       "model_id": "77ee09f7f3204b2fae3bfe67b9a04ed0",
       "version_major": 2,
       "version_minor": 0
      },
      "text/plain": [
       "Generating test split:   0%|          | 0/909 [00:00<?, ? examples/s]"
      ]
     },
     "metadata": {},
     "output_type": "display_data"
    },
    {
     "data": {
      "application/vnd.jupyter.widget-view+json": {
       "model_id": "e6e8762e8f824c18a63f70dcff0e4929",
       "version_major": 2,
       "version_minor": 0
      },
      "text/plain": [
       "Generating validation split:   0%|          | 0/492 [00:00<?, ? examples/s]"
      ]
     },
     "metadata": {},
     "output_type": "display_data"
    }
   ],
   "source": [
    "from datasets import load_dataset\n",
    "\n",
    "ds = load_dataset(\"MohamedSaeed-dev/python-text-to-code\")"
   ]
  },
  {
   "cell_type": "code",
<<<<<<< HEAD
   "execution_count": 4,
=======
   "execution_count": 5,
>>>>>>> f834d5c82a77f215c4dcc1c896af10708282dac5
   "id": "0a11af2e",
   "metadata": {},
   "outputs": [
    {
     "name": "stdout",
     "output_type": "stream",
     "text": [
      "DatasetDict({\n",
      "    train: Dataset({\n",
      "        features: ['text', 'code'],\n",
      "        num_rows: 463\n",
      "    })\n",
      "    test: Dataset({\n",
      "        features: ['text', 'code'],\n",
      "        num_rows: 51\n",
      "    })\n",
      "    validation: Dataset({\n",
      "        features: ['text', 'code'],\n",
      "        num_rows: 60\n",
      "    })\n",
      "})\n"
     ]
    }
   ],
   "source": [
    "# Check keys (splits)\n",
    "print(ds)\n"
   ]
  },
  {
   "cell_type": "code",
<<<<<<< HEAD
   "execution_count": 21,
=======
   "execution_count": 6,
>>>>>>> f834d5c82a77f215c4dcc1c896af10708282dac5
   "id": "0a01d887",
   "metadata": {},
   "outputs": [
    {
     "name": "stdout",
     "output_type": "stream",
     "text": [
      "✅ Processed train.json → train.jsonl\n",
      "✅ Processed test.json → test.jsonl\n",
      "✅ Processed valid.json → valid.jsonl\n"
     ]
    }
   ],
   "source": [
    "import json\n",
    "\n",
    "files = [\n",
    "    (\"train.json\", \"train.jsonl\"),\n",
    "    (\"test.json\", \"test.jsonl\"),\n",
    "    (\"valid.json\", \"valid.jsonl\"),\n",
    "]\n",
    "\n",
    "for input_file, output_file in files:\n",
    "    with open(input_file, \"r\", encoding=\"utf-8\") as f:\n",
    "        lines = f.readlines()\n",
    "\n",
    "    # Just copy line-by-line if they are already JSON objects\n",
    "    with open(output_file, \"w\", encoding=\"utf-8\") as f:\n",
    "        for line in lines:\n",
    "            line = line.strip()\n",
    "            if line:  # Skip empty lines\n",
    "                try:\n",
    "                    json_obj = json.loads(line)  # Validate JSON\n",
    "                    f.write(json.dumps(json_obj, ensure_ascii=False) + \"\\n\")\n",
    "                except json.JSONDecodeError as e:\n",
    "                    print(f\"❌ Error in line: {line[:80]}... → {e}\")\n",
    "\n",
    "    print(f\"✅ Processed {input_file} → {output_file}\")\n"
   ]
  },
  {
   "cell_type": "code",
   "execution_count": 24,
   "id": "f839c09c",
   "metadata": {},
   "outputs": [
    {
     "name": "stdout",
     "output_type": "stream",
     "text": [
      "🔄 Translating English prompts to Malay...\n"
     ]
    },
    {
<<<<<<< HEAD
     "name": "stderr",
     "output_type": "stream",
     "text": [
      "100%|██████████| 350/350 [04:52<00:00,  1.19it/s]"
     ]
=======
     "data": {
      "application/vnd.jupyter.widget-view+json": {
       "model_id": "8c9f57a851b3465dbfa0a0769de001cd",
       "version_major": 2,
       "version_minor": 0
      },
      "text/plain": [
       "Creating json from Arrow format:   0%|          | 0/10 [00:00<?, ?ba/s]"
      ]
     },
     "metadata": {},
     "output_type": "display_data"
>>>>>>> f834d5c82a77f215c4dcc1c896af10708282dac5
    },
    {
     "name": "stdout",
     "output_type": "stream",
     "text": [
<<<<<<< HEAD
      "✅ Translated data saved to: valid_ms.jsonl\n",
      "✅ Final cleaned dataset saved to: C1 Validation Data.jsonl\n"
=======
      "Saving test to xlcost_text_to_code_test.jsonl...\n"
     ]
    },
    {
     "data": {
      "application/vnd.jupyter.widget-view+json": {
       "model_id": "e0433d515b5d419dac4e734cc9734c74",
       "version_major": 2,
       "version_minor": 0
      },
      "text/plain": [
       "Creating json from Arrow format:   0%|          | 0/1 [00:00<?, ?ba/s]"
      ]
     },
     "metadata": {},
     "output_type": "display_data"
    },
    {
     "name": "stdout",
     "output_type": "stream",
     "text": [
      "Saving validation to xlcost_text_to_code_validation.jsonl...\n"
     ]
    },
    {
     "data": {
      "application/vnd.jupyter.widget-view+json": {
       "model_id": "e42b8e7ca6314c8ab094fd0054a868c0",
       "version_major": 2,
       "version_minor": 0
      },
      "text/plain": [
       "Creating json from Arrow format:   0%|          | 0/1 [00:00<?, ?ba/s]"
      ]
     },
     "metadata": {},
     "output_type": "display_data"
    },
    {
     "name": "stdout",
     "output_type": "stream",
     "text": [
      "✅ All files saved with custom filenames!\n"
>>>>>>> f834d5c82a77f215c4dcc1c896af10708282dac5
     ]
    }
   ],
   "source": [
<<<<<<< HEAD
=======
    "# Map each split to a desired filename\n",
    "filename_map = {\n",
    "    \"train\": \"xlcost_text_to_code_train.jsonl\",\n",
    "    \"test\": \"xlcost_text_to_code_test.jsonl\",\n",
    "    \"validation\": \"xlcost_text_to_code_validation.jsonl\",\n",
    "}\n",
    "\n",
    "# Save each split to a JSONL file\n",
    "for split_name, filename in filename_map.items():\n",
    "    print(f\"Saving {split_name} to {filename}...\")\n",
    "    ds[split_name].to_json(filename)\n",
    "\n",
    "print(\"✅ All files saved with custom filenames!\")\n"
   ]
  },
  {
   "cell_type": "code",
   "execution_count": 7,
   "id": "908f1591",
   "metadata": {},
   "outputs": [
    {
     "name": "stdout",
     "output_type": "stream",
     "text": [
      "Collecting deep-translator\n",
      "  Downloading deep_translator-1.11.4-py3-none-any.whl.metadata (30 kB)\n",
      "Requirement already satisfied: beautifulsoup4<5.0.0,>=4.9.1 in c:\\users\\user\\anaconda3\\lib\\site-packages (from deep-translator) (4.12.3)\n",
      "Requirement already satisfied: requests<3.0.0,>=2.23.0 in c:\\users\\user\\anaconda3\\lib\\site-packages (from deep-translator) (2.32.3)\n",
      "Requirement already satisfied: soupsieve>1.2 in c:\\users\\user\\anaconda3\\lib\\site-packages (from beautifulsoup4<5.0.0,>=4.9.1->deep-translator) (2.5)\n",
      "Requirement already satisfied: charset-normalizer<4,>=2 in c:\\users\\user\\anaconda3\\lib\\site-packages (from requests<3.0.0,>=2.23.0->deep-translator) (3.3.2)\n",
      "Requirement already satisfied: idna<4,>=2.5 in c:\\users\\user\\anaconda3\\lib\\site-packages (from requests<3.0.0,>=2.23.0->deep-translator) (3.7)\n",
      "Requirement already satisfied: urllib3<3,>=1.21.1 in c:\\users\\user\\anaconda3\\lib\\site-packages (from requests<3.0.0,>=2.23.0->deep-translator) (2.2.3)\n",
      "Requirement already satisfied: certifi>=2017.4.17 in c:\\users\\user\\anaconda3\\lib\\site-packages (from requests<3.0.0,>=2.23.0->deep-translator) (2024.8.30)\n",
      "Downloading deep_translator-1.11.4-py3-none-any.whl (42 kB)\n",
      "Installing collected packages: deep-translator\n",
      "Successfully installed deep-translator-1.11.4\n",
      "Note: you may need to restart the kernel to use updated packages.\n"
     ]
    }
   ],
   "source": [
    "pip install deep-translator"
   ]
  },
  {
   "cell_type": "code",
   "execution_count": 8,
   "id": "f839c09c",
   "metadata": {},
   "outputs": [
    {
     "name": "stdout",
     "output_type": "stream",
     "text": [
      "Translating prompts...\n"
     ]
    },
    {
     "name": "stderr",
     "output_type": "stream",
     "text": [
      "100%|██████████| 909/909 [18:17<00:00,  1.21s/it]"
     ]
    },
    {
     "name": "stdout",
     "output_type": "stream",
     "text": [
      "✅ Translation completed. Output saved to: xlcost_text_to_code_test_ms.jsonl\n"
     ]
    },
    {
     "name": "stderr",
     "output_type": "stream",
     "text": [
      "\n"
     ]
    }
   ],
   "source": [
>>>>>>> f834d5c82a77f215c4dcc1c896af10708282dac5
    "import json\n",
    "from deep_translator import GoogleTranslator\n",
    "from tqdm import tqdm\n",
    "\n",
<<<<<<< HEAD
    "# === Step 1: Translate text ===\n",
=======
    "# Path to your input and output files\n",
    "input_file = \"xlcost_text_to_code_test.jsonl\"    # Your English dataset\n",
    "output_file = \"xlcost_text_to_code_test_ms.jsonl\"  # Translated output\n",
>>>>>>> f834d5c82a77f215c4dcc1c896af10708282dac5
    "\n",
    "# File paths\n",
    "input_file = \"valid.jsonl\"            # English input\n",
    "translated_file = \"valid_ms.jsonl\"    # Intermediate file with both English & Malay\n",
    "final_output_file = \"C1 Validation Data.jsonl\"  # Final output: only Malay prompt + code\n",
    "\n",
    "# Field names\n",
    "source_field = \"text\"\n",
    "translated_field = \"text_ms\"\n",
    "\n",
    "translated_data = []\n",
    "\n",
    "print(\"🔄 Translating English prompts to Malay...\")\n",
    "with open(input_file, \"r\", encoding=\"utf-8\") as f:\n",
    "    lines = f.readlines()\n",
    "\n",
    "for line in tqdm(lines):\n",
    "    item = json.loads(line)\n",
    "    english_text = item.get(source_field, \"\")\n",
    "\n",
    "    try:\n",
    "        malay_text = GoogleTranslator(source=\"en\", target=\"ms\").translate(english_text)\n",
    "    except Exception as e:\n",
    "        print(f\"⚠️ Translation error: {e}\")\n",
    "        malay_text = \"[TRANSLATION_FAILED]\"\n",
    "\n",
    "    item[translated_field] = malay_text\n",
    "    translated_data.append(item)\n",
    "\n",
    "# Save intermediate JSONL with English + Malay\n",
    "with open(translated_file, \"w\", encoding=\"utf-8\") as f:\n",
    "    for item in translated_data:\n",
    "        f.write(json.dumps(item, ensure_ascii=False) + \"\\n\")\n",
    "\n",
<<<<<<< HEAD
    "print(f\"✅ Translated data saved to: {translated_file}\")\n",
    "\n",
    "# === Step 2: Extract only Malay + Code ===\n",
=======
    "print(f\"✅ Translation completed. Output saved to: {output_file}\")\n"
   ]
  },
  {
   "cell_type": "code",
   "execution_count": 9,
   "id": "0bf6478b",
   "metadata": {},
   "outputs": [
    {
     "name": "stdout",
     "output_type": "stream",
     "text": [
      "✅ Cleaned dataset saved to: xlcost_text_to_code_test_ms_clean.jsonl\n"
     ]
    }
   ],
   "source": [
    "import json\n",
    "\n",
    "# Input: your full dataset with English + Malay\n",
    "input_file = \"xlcost_text_to_code_test_ms.jsonl\"\n",
    "\n",
    "# Output: simplified dataset (Malay prompt only)\n",
    "output_file = \"xlcost_text_to_code_test_ms_clean.jsonl\"\n",
>>>>>>> f834d5c82a77f215c4dcc1c896af10708282dac5
    "\n",
    "cleaned_data = []\n",
    "for item in translated_data:\n",
    "    cleaned_item = {\n",
    "        \"text\": item.get(\"text_ms\", \"[NO_TRANSLATION]\"),\n",
    "        \"code\": item.get(\"code\", \"\")\n",
    "    }\n",
    "    cleaned_data.append(cleaned_item)\n",
    "\n",
    "# Save final simplified JSONL\n",
    "with open(final_output_file, \"w\", encoding=\"utf-8\") as f:\n",
    "    for item in cleaned_data:\n",
    "        f.write(json.dumps(item, ensure_ascii=False) + \"\\n\")\n",
    "\n",
    "print(f\"✅ Final cleaned dataset saved to: {final_output_file}\")\n"
   ]
  },
  {
   "cell_type": "code",
   "execution_count": null,
   "id": "99c43c98",
   "metadata": {},
   "outputs": [],
   "source": []
  }
 ],
 "metadata": {
  "kernelspec": {
   "display_name": "base",
   "language": "python",
   "name": "python3"
  },
  "language_info": {
   "codemirror_mode": {
    "name": "ipython",
    "version": 3
   },
   "file_extension": ".py",
   "mimetype": "text/x-python",
   "name": "python",
   "nbconvert_exporter": "python",
   "pygments_lexer": "ipython3",
   "version": "3.12.7"
  }
 },
 "nbformat": 4,
 "nbformat_minor": 5
}
