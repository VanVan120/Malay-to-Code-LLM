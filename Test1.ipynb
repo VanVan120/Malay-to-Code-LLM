{
 "cells": [
  {
   "cell_type": "code",
   "execution_count": 12,
   "id": "d631f892",
   "metadata": {},
   "outputs": [
    {
     "name": "stderr",
     "output_type": "stream",
     "text": [
      "c:\\Users\\user\\AppData\\Local\\Programs\\Python\\Python313\\Lib\\site-packages\\huggingface_hub\\file_download.py:143: UserWarning: `huggingface_hub` cache-system uses symlinks by default to efficiently store duplicated files but your machine does not support them in C:\\Users\\user\\.cache\\huggingface\\hub\\datasets--MohamedSaeed-dev--python-text-to-code. Caching files will still work but in a degraded version that might require more space on your disk. This warning can be disabled by setting the `HF_HUB_DISABLE_SYMLINKS_WARNING` environment variable. For more details, see https://huggingface.co/docs/huggingface_hub/how-to-cache#limitations.\n",
      "To support symlinks on Windows, you either need to activate Developer Mode or to run Python as an administrator. In order to activate developer mode, see this article: https://docs.microsoft.com/en-us/windows/apps/get-started/enable-your-device-for-development\n",
      "  warnings.warn(message)\n",
      "Generating train split: 100%|██████████| 9263/9263 [00:00<00:00, 179823.00 examples/s]\n",
      "Generating validation split: 100%|██████████| 472/472 [00:00<00:00, 45606.01 examples/s]\n",
      "Generating test split: 100%|██████████| 887/887 [00:00<00:00, 78824.26 examples/s]\n"
     ]
    }
   ],
   "source": [
    "from datasets import load_dataset\n",
    "\n",
    "ds = load_dataset(\"MohamedSaeed-dev/python-text-to-code\")"
   ]
  },
  {
   "cell_type": "code",
   "execution_count": 4,
   "id": "0a11af2e",
   "metadata": {},
   "outputs": [
    {
     "name": "stdout",
     "output_type": "stream",
     "text": [
      "DatasetDict({\n",
      "    train: Dataset({\n",
      "        features: ['text', 'code'],\n",
      "        num_rows: 463\n",
      "    })\n",
      "    test: Dataset({\n",
      "        features: ['text', 'code'],\n",
      "        num_rows: 51\n",
      "    })\n",
      "    validation: Dataset({\n",
      "        features: ['text', 'code'],\n",
      "        num_rows: 60\n",
      "    })\n",
      "})\n"
     ]
    }
   ],
   "source": [
    "# Check keys (splits)\n",
    "print(ds)\n"
   ]
  },
  {
   "cell_type": "code",
   "execution_count": 2,
   "id": "0a01d887",
   "metadata": {},
   "outputs": [
    {
     "ename": "FileNotFoundError",
     "evalue": "[Errno 2] No such file or directory: 'train.json'",
     "output_type": "error",
     "traceback": [
      "\u001b[1;31m---------------------------------------------------------------------------\u001b[0m",
      "\u001b[1;31mFileNotFoundError\u001b[0m                         Traceback (most recent call last)",
      "Cell \u001b[1;32mIn[2], line 10\u001b[0m\n\u001b[0;32m      3\u001b[0m files \u001b[38;5;241m=\u001b[39m [\n\u001b[0;32m      4\u001b[0m     (\u001b[38;5;124m\"\u001b[39m\u001b[38;5;124mtrain.json\u001b[39m\u001b[38;5;124m\"\u001b[39m, \u001b[38;5;124m\"\u001b[39m\u001b[38;5;124mtrain.jsonl\u001b[39m\u001b[38;5;124m\"\u001b[39m),\n\u001b[0;32m      5\u001b[0m     (\u001b[38;5;124m\"\u001b[39m\u001b[38;5;124mtest.json\u001b[39m\u001b[38;5;124m\"\u001b[39m, \u001b[38;5;124m\"\u001b[39m\u001b[38;5;124mtest.jsonl\u001b[39m\u001b[38;5;124m\"\u001b[39m),\n\u001b[0;32m      6\u001b[0m     (\u001b[38;5;124m\"\u001b[39m\u001b[38;5;124mvalid.json\u001b[39m\u001b[38;5;124m\"\u001b[39m, \u001b[38;5;124m\"\u001b[39m\u001b[38;5;124mvalid.jsonl\u001b[39m\u001b[38;5;124m\"\u001b[39m),\n\u001b[0;32m      7\u001b[0m ]\n\u001b[0;32m      9\u001b[0m \u001b[38;5;28;01mfor\u001b[39;00m input_file, output_file \u001b[38;5;129;01min\u001b[39;00m files:\n\u001b[1;32m---> 10\u001b[0m     \u001b[38;5;28;01mwith\u001b[39;00m \u001b[38;5;28;43mopen\u001b[39;49m\u001b[43m(\u001b[49m\u001b[43minput_file\u001b[49m\u001b[43m,\u001b[49m\u001b[43m \u001b[49m\u001b[38;5;124;43m\"\u001b[39;49m\u001b[38;5;124;43mr\u001b[39;49m\u001b[38;5;124;43m\"\u001b[39;49m\u001b[43m,\u001b[49m\u001b[43m \u001b[49m\u001b[43mencoding\u001b[49m\u001b[38;5;241;43m=\u001b[39;49m\u001b[38;5;124;43m\"\u001b[39;49m\u001b[38;5;124;43mutf-8\u001b[39;49m\u001b[38;5;124;43m\"\u001b[39;49m\u001b[43m)\u001b[49m \u001b[38;5;28;01mas\u001b[39;00m f:\n\u001b[0;32m     11\u001b[0m         lines \u001b[38;5;241m=\u001b[39m f\u001b[38;5;241m.\u001b[39mreadlines()\n\u001b[0;32m     13\u001b[0m     \u001b[38;5;66;03m# Just copy line-by-line if they are already JSON objects\u001b[39;00m\n",
      "File \u001b[1;32m~\\AppData\\Roaming\\Python\\Python312\\site-packages\\IPython\\core\\interactiveshell.py:324\u001b[0m, in \u001b[0;36m_modified_open\u001b[1;34m(file, *args, **kwargs)\u001b[0m\n\u001b[0;32m    317\u001b[0m \u001b[38;5;28;01mif\u001b[39;00m file \u001b[38;5;129;01min\u001b[39;00m {\u001b[38;5;241m0\u001b[39m, \u001b[38;5;241m1\u001b[39m, \u001b[38;5;241m2\u001b[39m}:\n\u001b[0;32m    318\u001b[0m     \u001b[38;5;28;01mraise\u001b[39;00m \u001b[38;5;167;01mValueError\u001b[39;00m(\n\u001b[0;32m    319\u001b[0m         \u001b[38;5;124mf\u001b[39m\u001b[38;5;124m\"\u001b[39m\u001b[38;5;124mIPython won\u001b[39m\u001b[38;5;124m'\u001b[39m\u001b[38;5;124mt let you open fd=\u001b[39m\u001b[38;5;132;01m{\u001b[39;00mfile\u001b[38;5;132;01m}\u001b[39;00m\u001b[38;5;124m by default \u001b[39m\u001b[38;5;124m\"\u001b[39m\n\u001b[0;32m    320\u001b[0m         \u001b[38;5;124m\"\u001b[39m\u001b[38;5;124mas it is likely to crash IPython. If you know what you are doing, \u001b[39m\u001b[38;5;124m\"\u001b[39m\n\u001b[0;32m    321\u001b[0m         \u001b[38;5;124m\"\u001b[39m\u001b[38;5;124myou can use builtins\u001b[39m\u001b[38;5;124m'\u001b[39m\u001b[38;5;124m open.\u001b[39m\u001b[38;5;124m\"\u001b[39m\n\u001b[0;32m    322\u001b[0m     )\n\u001b[1;32m--> 324\u001b[0m \u001b[38;5;28;01mreturn\u001b[39;00m \u001b[43mio_open\u001b[49m\u001b[43m(\u001b[49m\u001b[43mfile\u001b[49m\u001b[43m,\u001b[49m\u001b[43m \u001b[49m\u001b[38;5;241;43m*\u001b[39;49m\u001b[43margs\u001b[49m\u001b[43m,\u001b[49m\u001b[43m \u001b[49m\u001b[38;5;241;43m*\u001b[39;49m\u001b[38;5;241;43m*\u001b[39;49m\u001b[43mkwargs\u001b[49m\u001b[43m)\u001b[49m\n",
      "\u001b[1;31mFileNotFoundError\u001b[0m: [Errno 2] No such file or directory: 'train.json'"
     ]
    }
   ],
   "source": [
    "import json\n",
    "\n",
    "files = [\n",
    "    (\"train.json\", \"train.jsonl\"),\n",
    "    (\"test.json\", \"test.jsonl\"),\n",
    "    (\"valid.json\", \"valid.jsonl\"),\n",
    "]\n",
    "\n",
    "for input_file, output_file in files:\n",
    "    with open(input_file, \"r\", encoding=\"utf-8\") as f:\n",
    "        lines = f.readlines()\n",
    "\n",
    "    # Just copy line-by-line if they are already JSON objects\n",
    "    with open(output_file, \"w\", encoding=\"utf-8\") as f:\n",
    "        for line in lines:\n",
    "            line = line.strip()\n",
    "            if line:  # Skip empty lines\n",
    "                try:\n",
    "                    json_obj = json.loads(line)  # Validate JSON\n",
    "                    f.write(json.dumps(json_obj, ensure_ascii=False) + \"\\n\")\n",
    "                except json.JSONDecodeError as e:\n",
    "                    print(f\"❌ Error in line: {line[:80]}... → {e}\")\n",
    "\n",
    "    print(f\"✅ Processed {input_file} → {output_file}\")\n"
   ]
  },
  {
   "cell_type": "code",
   "execution_count": 1,
   "id": "f839c09c",
   "metadata": {},
   "outputs": [
    {
     "name": "stdout",
     "output_type": "stream",
     "text": [
      "🔄 Translating English prompts to Malay...\n"
     ]
    },
    {
     "name": "stderr",
     "output_type": "stream",
     "text": [
      " 48%|████▊     | 4413/9263 [1:37:19<9:19:44,  6.92s/it]"
     ]
    },
    {
     "name": "stdout",
     "output_type": "stream",
     "text": [
      "⚠️ Translation error: ('Connection aborted.', RemoteDisconnected('Remote end closed connection without response'))\n"
     ]
    },
    {
     "name": "stderr",
     "output_type": "stream",
     "text": [
      "100%|██████████| 9263/9263 [3:21:00<00:00,  1.30s/it]  \n"
     ]
    },
    {
     "name": "stdout",
     "output_type": "stream",
     "text": [
      "✅ Translated data saved to: Python_Train_ms.jsonl\n",
      "✅ Final cleaned dataset saved to: Python_Train_Data.jsonl\n"
     ]
    }
   ],
   "source": [
    "import json\n",
    "from deep_translator import GoogleTranslator\n",
    "from tqdm import tqdm\n",
    "\n",
    "# === Step 1: Translate text ===\n",
    "\n",
    "# File paths\n",
    "input_file = \"Python Train.jsonl\"            # English input\n",
    "translated_file = \"Python_Train_ms.jsonl\"    # Intermediate file with both English & Malay\n",
    "final_output_file = \"Python_Train_Data.jsonl\"  # Final output: only Malay prompt + code\n",
    "\n",
    "# Field names\n",
    "source_field = \"text\"\n",
    "translated_field = \"text_ms\"\n",
    "\n",
    "translated_data = []\n",
    "\n",
    "print(\"🔄 Translating English prompts to Malay...\")\n",
    "with open(input_file, \"r\", encoding=\"utf-8\") as f:\n",
    "    lines = f.readlines()\n",
    "\n",
    "for line in tqdm(lines):\n",
    "    item = json.loads(line)\n",
    "    english_text = item.get(source_field, \"\")\n",
    "\n",
    "    try:\n",
    "        malay_text = GoogleTranslator(source=\"en\", target=\"ms\").translate(english_text)\n",
    "    except Exception as e:\n",
    "        print(f\"⚠️ Translation error: {e}\")\n",
    "        malay_text = \"[TRANSLATION_FAILED]\"\n",
    "\n",
    "    item[translated_field] = malay_text\n",
    "    translated_data.append(item)\n",
    "\n",
    "# Save intermediate JSONL with English + Malay\n",
    "with open(translated_file, \"w\", encoding=\"utf-8\") as f:\n",
    "    for item in translated_data:\n",
    "        f.write(json.dumps(item, ensure_ascii=False) + \"\\n\")\n",
    "\n",
    "print(f\"✅ Translated data saved to: {translated_file}\")\n",
    "\n",
    "# === Step 2: Extract only Malay + Code ===\n",
    "\n",
    "cleaned_data = []\n",
    "for item in translated_data:\n",
    "    cleaned_item = {\n",
    "        \"text\": item.get(\"text_ms\", \"[NO_TRANSLATION]\"),\n",
    "        \"code\": item.get(\"code\", \"\")\n",
    "    }\n",
    "    cleaned_data.append(cleaned_item)\n",
    "\n",
    "# Save final simplified JSONL\n",
    "with open(final_output_file, \"w\", encoding=\"utf-8\") as f:\n",
    "    for item in cleaned_data:\n",
    "        f.write(json.dumps(item, ensure_ascii=False) + \"\\n\")\n",
    "\n",
    "print(f\"✅ Final cleaned dataset saved to: {final_output_file}\")"
   ]
  },
  {
   "cell_type": "code",
   "execution_count": null,
   "id": "99c43c98",
   "metadata": {},
   "outputs": [
    {
     "ename": "ApiKeyException",
     "evalue": "None --> \nYou have to pass your api_key!\nYou can do this by passing the key as a parameter/argument to the translator class\nor by setting the environment variable OPEN_API_KEY\n\nExample: export OPEN_API_KEY=\"your_api_key\"\n",
     "output_type": "error",
     "traceback": [
      "\u001b[31m---------------------------------------------------------------------------\u001b[39m",
      "\u001b[31mApiKeyException\u001b[39m                           Traceback (most recent call last)",
      "\u001b[36mCell\u001b[39m\u001b[36m \u001b[39m\u001b[32mIn[1]\u001b[39m\u001b[32m, line 4\u001b[39m\n\u001b[32m      1\u001b[39m \u001b[38;5;28;01mfrom\u001b[39;00m\u001b[38;5;250m \u001b[39m\u001b[34;01mdeep_translator\u001b[39;00m\u001b[38;5;250m \u001b[39m\u001b[38;5;28;01mimport\u001b[39;00m ChatGptTranslator\n\u001b[32m      3\u001b[39m text = \u001b[33m'\u001b[39m\u001b[33mcreate the link list from the given array\u001b[39m\u001b[33m'\u001b[39m\n\u001b[32m----> \u001b[39m\u001b[32m4\u001b[39m translated = \u001b[43mChatGptTranslator\u001b[49m\u001b[43m(\u001b[49m\u001b[43mtarget\u001b[49m\u001b[43m=\u001b[49m\u001b[33;43m'\u001b[39;49m\u001b[33;43mzh-CN\u001b[39;49m\u001b[33;43m'\u001b[39;49m\u001b[43m,\u001b[49m\u001b[43m \u001b[49m\u001b[43msource\u001b[49m\u001b[43m=\u001b[49m\u001b[33;43m'\u001b[39;49m\u001b[33;43men\u001b[39;49m\u001b[33;43m'\u001b[39;49m\u001b[43m)\u001b[49m.translate(text)\n\u001b[32m      5\u001b[39m \u001b[38;5;28mprint\u001b[39m(\u001b[33m\"\u001b[39m\u001b[33mOriginal Text:\u001b[39m\u001b[33m\"\u001b[39m, text)\n\u001b[32m      6\u001b[39m \u001b[38;5;28mprint\u001b[39m(\u001b[33m\"\u001b[39m\u001b[33mTranslated text:\u001b[39m\u001b[33m\"\u001b[39m, translated)\n",
      "\u001b[36mFile \u001b[39m\u001b[32mc:\\Users\\user\\AppData\\Local\\Programs\\Python\\Python313\\Lib\\site-packages\\deep_translator\\chatgpt.py:31\u001b[39m, in \u001b[36mChatGptTranslator.__init__\u001b[39m\u001b[34m(self, source, target, api_key, model, **kwargs)\u001b[39m\n\u001b[32m     25\u001b[39m \u001b[38;5;250m\u001b[39m\u001b[33;03m\"\"\"\u001b[39;00m\n\u001b[32m     26\u001b[39m \u001b[33;03m@param api_key: your openai api key.\u001b[39;00m\n\u001b[32m     27\u001b[39m \u001b[33;03m@param source: source language\u001b[39;00m\n\u001b[32m     28\u001b[39m \u001b[33;03m@param target: target language\u001b[39;00m\n\u001b[32m     29\u001b[39m \u001b[33;03m\"\"\"\u001b[39;00m\n\u001b[32m     30\u001b[39m \u001b[38;5;28;01mif\u001b[39;00m \u001b[38;5;129;01mnot\u001b[39;00m api_key:\n\u001b[32m---> \u001b[39m\u001b[32m31\u001b[39m     \u001b[38;5;28;01mraise\u001b[39;00m ApiKeyException(env_var=OPEN_AI_ENV_VAR)\n\u001b[32m     33\u001b[39m \u001b[38;5;28mself\u001b[39m.api_key = api_key\n\u001b[32m     34\u001b[39m \u001b[38;5;28mself\u001b[39m.model = model\n",
      "\u001b[31mApiKeyException\u001b[39m: None --> \nYou have to pass your api_key!\nYou can do this by passing the key as a parameter/argument to the translator class\nor by setting the environment variable OPEN_API_KEY\n\nExample: export OPEN_API_KEY=\"your_api_key\"\n"
     ]
    }
   ],
   "source": [
    "from deep_translator import ChatGptTranslator\n",
    "\n",
    "text = 'create the link list from the given array'\n",
    "translated = ChatGptTranslator(api_key= \"\", model=\"\", target='zh-CN', source='en').translate(text)\n",
    "print(\"Original Text:\", text)\n",
    "print(\"Translated text:\", translated)"
   ]
  },
  {
   "cell_type": "code",
   "execution_count": null,
   "id": "1ad350c3",
   "metadata": {},
   "outputs": [],
   "source": []
  }
 ],
 "metadata": {
  "kernelspec": {
   "display_name": "Python 3",
   "language": "python",
   "name": "python3"
  },
  "language_info": {
   "codemirror_mode": {
    "name": "ipython",
    "version": 3
   },
   "file_extension": ".py",
   "mimetype": "text/x-python",
   "name": "python",
   "nbconvert_exporter": "python",
   "pygments_lexer": "ipython3",
   "version": "3.13.3"
  }
 },
 "nbformat": 4,
 "nbformat_minor": 5
}
