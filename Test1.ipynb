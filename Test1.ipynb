{
 "cells": [
  {
   "cell_type": "code",
   "execution_count": 1,
   "id": "d631f892",
   "metadata": {},
   "outputs": [
    {
     "name": "stderr",
     "output_type": "stream",
     "text": [
      "c:\\Users\\user\\AppData\\Local\\Programs\\Python\\Python313\\Lib\\site-packages\\tqdm\\auto.py:21: TqdmWarning: IProgress not found. Please update jupyter and ipywidgets. See https://ipywidgets.readthedocs.io/en/stable/user_install.html\n",
      "  from .autonotebook import tqdm as notebook_tqdm\n"
     ]
    }
   ],
   "source": [
    "from datasets import load_dataset\n",
    "\n",
    "ds = load_dataset(\"iamtarun/code_instructions_120k_alpaca\")"
   ]
  },
  {
   "cell_type": "code",
   "execution_count": 2,
   "id": "0a11af2e",
   "metadata": {},
   "outputs": [
    {
     "name": "stdout",
     "output_type": "stream",
     "text": [
      "DatasetDict({\n",
      "    train: Dataset({\n",
      "        features: ['instruction', 'input', 'output', 'prompt'],\n",
      "        num_rows: 121959\n",
      "    })\n",
      "})\n"
     ]
    }
   ],
   "source": [
    "# Check keys (splits)\n",
    "print(ds)\n"
   ]
  },
  {
   "cell_type": "code",
   "execution_count": 3,
   "id": "0a01d887",
   "metadata": {},
   "outputs": [],
   "source": [
    "import json\n",
    "\n",
    "# Perform 70-30 train-test split\n",
    "split_dataset = ds['train'].train_test_split(test_size=0.3, seed=42)\n",
    "\n",
    "# Save train data to JSONL\n",
    "with open(\"train.jsonl\", \"w\", encoding=\"utf-8\") as f_train:\n",
    "    for example in split_dataset['train']:\n",
    "        json.dump({\n",
    "            \"prompt\": example[\"prompt\"],\n",
    "            \"output\": example[\"output\"]\n",
    "        }, f_train)\n",
    "        f_train.write('\\n')\n",
    "\n",
    "# Save test data to JSONL\n",
    "with open(\"test.jsonl\", \"w\", encoding=\"utf-8\") as f_test:\n",
    "    for example in split_dataset['test']:\n",
    "        json.dump({\n",
    "            \"prompt\": example[\"prompt\"],\n",
    "            \"output\": example[\"output\"]\n",
    "        }, f_test)\n",
    "        f_test.write('\\n')\n"
   ]
  },
  {
   "cell_type": "code",
   "execution_count": 6,
   "id": "f839c09c",
   "metadata": {},
   "outputs": [
    {
     "name": "stdout",
     "output_type": "stream",
     "text": [
      "🔁 Re-translating failed entries...\n"
     ]
    },
    {
     "name": "stderr",
     "output_type": "stream",
     "text": [
      "100%|██████████| 85371/85371 [04:07<00:00, 344.51it/s] \n"
     ]
    },
    {
     "name": "stdout",
     "output_type": "stream",
     "text": [
      "✅ Updated file saved: final_train_ms_fixed.jsonl\n",
      "⚠️ Failed translations saved to: translation_failures.jsonl\n",
      "✅ Final training file saved: Python_Train_Data.jsonl\n"
     ]
    }
   ],
   "source": [
    "import json\n",
    "import time\n",
    "from deep_translator import GoogleTranslator\n",
    "from tqdm import tqdm\n",
    "\n",
    "# === File paths ===\n",
    "input_file = \"final_train_ms.jsonl\"                 # Existing file\n",
    "output_file = \"final_train_ms_fixed.jsonl\"          # Updated version\n",
    "final_dataset = \"Python_Train_Data.jsonl\"           # Final output\n",
    "failure_file = \"translation_failures.jsonl\"         # Log for failed items\n",
    "\n",
    "# === Load data ===\n",
    "with open(input_file, \"r\", encoding=\"utf-8\") as f:\n",
    "    data = [json.loads(line.strip()) for line in f if line.strip()]\n",
    "\n",
    "# === Re-translate only failed entries ===\n",
    "print(\"🔁 Re-translating failed entries...\")\n",
    "\n",
    "updated_data = []\n",
    "failed_items = []\n",
    "\n",
    "for item in tqdm(data):\n",
    "    if item.get(\"text_ms\", \"\").strip() == \"[TRANSLATION_FAILED]\":\n",
    "        english_text = item.get(\"instruction\", \"\")\n",
    "        \n",
    "        # Skip if too long\n",
    "        if len(english_text) > 4500:\n",
    "            item[\"text_ms\"] = \"[TRANSLATION_FAILED_LONG_TEXT]\"\n",
    "            failed_items.append(item)\n",
    "            updated_data.append(item)\n",
    "            continue\n",
    "\n",
    "        try:\n",
    "            malay_text = GoogleTranslator(source=\"en\", target=\"ms\").translate(english_text)\n",
    "            item[\"text_ms\"] = malay_text\n",
    "            time.sleep(1)  # Avoid rate-limiting\n",
    "        except Exception as e:\n",
    "            print(f\"⚠️ Error: {e}\")\n",
    "            item[\"text_ms\"] = \"[TRANSLATION_FAILED]\"\n",
    "            failed_items.append(item)\n",
    "\n",
    "    updated_data.append(item)\n",
    "\n",
    "# === Save updated file ===\n",
    "with open(output_file, \"w\", encoding=\"utf-8\") as f:\n",
    "    for item in updated_data:\n",
    "        f.write(json.dumps(item, ensure_ascii=False) + \"\\n\")\n",
    "\n",
    "print(f\"✅ Updated file saved: {output_file}\")\n",
    "\n",
    "# === Save failed entries ===\n",
    "with open(failure_file, \"w\", encoding=\"utf-8\") as f:\n",
    "    for item in failed_items:\n",
    "        f.write(json.dumps(item, ensure_ascii=False) + \"\\n\")\n",
    "\n",
    "print(f\"⚠️ Failed translations saved to: {failure_file}\")\n",
    "\n",
    "# === Step 2: Prepare Final Dataset (Malay + input + output) ===\n",
    "final_data = []\n",
    "for item in updated_data:\n",
    "    final_data.append({\n",
    "        \"instruction\": item.get(\"text_ms\", \"[NO_TRANSLATION]\"),\n",
    "        \"input\": item.get(\"input\", \"\"),\n",
    "        \"output\": item.get(\"output\", \"\")\n",
    "    })\n",
    "\n",
    "with open(final_dataset, \"w\", encoding=\"utf-8\") as f:\n",
    "    for item in final_data:\n",
    "        f.write(json.dumps(item, ensure_ascii=False) + \"\\n\")\n",
    "\n",
    "print(f\"✅ Final training file saved: {final_dataset}\")\n"
   ]
  },
  {
   "cell_type": "code",
   "execution_count": 7,
   "id": "7e2fdfc2",
   "metadata": {},
   "outputs": [
    {
     "name": "stderr",
     "output_type": "stream",
     "text": [
      "100%|██████████| 4/4 [00:20<00:00,  5.05s/it]"
     ]
    },
    {
     "name": "stdout",
     "output_type": "stream",
     "text": [
      "Failed: Use this code to remove \\n and \\t from island_list and commodity_list respectively and print the updated lists:\n",
      "\n",
      "```\n",
      "island_list = ['Armstrong Island', 'Atchafalaya Island', 'Immokalee Island', 'Moultrie Island', 'Sho-ke Island', 'Sirius Island',\n",
      "               'Tumult Island', 'The Beaufort Islands', \"Messier's Crown\", 'Nunataq Island', 'Paollu Island', 'Qaniit Island',\n",
      "               'Ancoraggio Island', 'Fluke Island', 'Kakraphoon Island', 'Eagle Archipelago', 'Cambium Island', \"Hubble's Eye\",\n",
      "               'Ilha da Aguia', 'Ix Chel', 'Manu Island', 'Admiral Island', 'Basset Island', 'Bryher Island', 'Cromwell Island',\n",
      "               'Hook Shelf', 'Isle of Kent', 'Lincoln Island', 'Wensleydale', 'Anegada Island', 'Barnard Island', 'The Lowland Hundred',\n",
      "               'Lyonesse Island', 'Myvatn Island', 'Arakoua Island', 'Aten Island', 'Barbary Island', 'Caravanserai Island',\n",
      "               'Kasidim Island', 'Kiwara Island', 'Terjit Island', 'Tichka Plateau', 'Aimuari Island', 'Chachapoya Island',\n",
      "               'Matariki Island', 'Pukru Island', 'Quetzal Island', 'Saiph Island', 'Toba Island', 'Albatross Island', 'Ambush Island',\n",
      "               'Deadlight Dunes', 'Gauntlet Island', \"Jack's Last Gift\", 'Mirage Island', 'Scurvy Reef', 'Blackthorpe Island', 'Cook Island',\n",
      "               'Descartes Isle', 'Fowler Island', 'Greenwich Island', 'Halley Island', 'Spaniel Island', 'Starfish Island', 'Ventress Island',\n",
      "               'Accompong Island', 'Gallows Island', 'Iocane Island', 'Maia Island', 'Morgana Island', 'Paihia Island', 'Umbarten Island',\n",
      "               'Auk Island', 'Cryo Island', 'Hoarfrost Island', 'Amity Island', 'Bowditch Island', 'Hinga Island', 'Penobscot Island', 'Rowes Island',\n",
      "               'Scrimshaw Island', 'Squibnocket Island', 'Wissahickon Island', 'Ashkelon Arch', 'Kashgar Island', 'Morannon Island', 'Alkaid Island',\n",
      "               'Doyle Island', \"Edgar's Choice\", 'Isle of Keris', 'Marlowe Island', \"McGuffin's Isle\", 'Sayers Rock']\n",
      "\n",
      "\n",
      "commodity_list = [['Hemp', 'Hemp oil', 'Iron', \"Kraken's ink\", 'Lacquer', 'Stone', 'Sugar cane', 'Varnish', 'Wood', '', 'Broom flower', 'Butterfly weed',\n",
      "                   'Cowslip', 'Elderberries', 'Indigo', 'Iris root', 'Lily of the valley', 'Lobelia', 'Madder', 'Nettle', \"Old man's beard\", 'Pokeweed berries',\n",
      "                   'Sassafras', 'Weld', 'Yarrow', '', 'Chalcocite', 'Cubanite', 'Gold nugget', 'Lorandite', 'Leushite', 'Masuyite', 'Papagoite',\n",
      "                   'Serandite', 'Sincosite', 'Tellurium', 'Thorianite', '', 'Bananas', 'Carambolas', 'Coconuts', 'Durians', 'Limes', 'Mangos',\n",
      "                   'Passion fruit', 'Pineapples', 'Pomegranates', 'Rambutan', 'Amber gems', 'Amethyst gems', 'Beryl gems', 'Coral gems',\n",
      "                   'Diamonds', 'Emeralds', 'Jade gems', 'Jasper gems', 'Jet gems', 'Lapis lazuli gems', '  ', 'Moonstones', 'Opals', 'Pearls',\n",
      "                   'Quartz gems', 'Rubies', 'Sapphires', 'Tigereye gems', 'Topaz gems', 'Gold nuggets (mineral)', '', 'Swill', 'Grog', 'Fine rum',\n",
      "                   'Small, medium, and large cannon balls', 'Lifeboats', '', 'Aqua cloth', 'Black cloth', 'Blue cloth', 'Brown cloth', 'Gold cloth',\n",
      "                   'Green cloth', 'Grey cloth', 'Lavender cloth', 'Light green cloth', 'Lime cloth', 'Magenta cloth', 'Maroon cloth', 'Mint cloth',\n",
      "                   'Navy cloth', 'Orange cloth', 'Pink cloth', 'Purple cloth', 'Red cloth', 'Rose cloth', 'Tan cloth', 'Violet cloth', 'White cloth',\n",
      "                   'Yellow cloth', 'Fine aqua cloth', 'Fine black cloth', 'Fine blue cloth', 'Fine brown cloth', 'Fine gold cloth', 'Fine green cloth',\n",
      "                   'Fine grey cloth', 'Fine lavender cloth', 'Fine light green cloth', 'Fine lime cloth', 'Fine magenta cloth', 'Fine maroon cloth',\n",
      "                   'Fine mint cloth', '    ', 'Fine navy cloth', 'Fine orange cloth', 'Fine pink cloth', 'Fine purple cloth', 'Fine red cloth', 'Fine rose cloth',\n",
      "                   'Fine tan cloth', 'Fine violet cloth', 'Fine white cloth', 'Fine yellow cloth', 'Sail cloth', '', 'Blue dye', 'Green dye',\n",
      "                   \"Kraken's blood\", 'Red dye', 'Yellow dye', '', 'Aqua enamel', 'Black enamel', 'Blue enamel', 'Brown enamel', 'Gold enamel',\n",
      "                   'Green enamel', 'Grey enamel', 'Lavender enamel', 'Light green enamel', 'Lime enamel', 'Magenta enamel', 'Maroon enamel', 'Mint enamel',\n",
      "                   'Navy enamel', 'Orange enamel', 'Pink enamel', 'Purple enamel', 'Red enamel', 'Rose enamel', 'Tan enamel', 'Violet enamel', 'White enamel',\n",
      "                   'Yellow enamel', '', 'Aqua paint', 'Black paint', 'Blue paint', 'Brown paint', 'Gold paint', 'Green paint', 'Grey paint', 'Lavender paint',\n",
      "                   'Light green paint', 'Lime paint', 'Magenta paint', 'Maroon paint', 'Mint paint', 'Navy paint', 'Orange paint', 'Pink paint',\n",
      "                   'Purple paint', 'Red paint', 'Rose paint', 'Tan paint', 'Violet paint', 'White paint', 'Yellow paint']]\n",
      "\n",
      "newi_list = [each_item.strip(\"\\n\").strip(\"\\t\") for each_item in island_list]\n",
      "newc_list = [[item.strip(\"\\n\").strip(\"\\t\") for item in sublist] for sublist in commodity_list]\n",
      "\n",
      "print(newi_list)\n",
      "print(\"\\n\")\n",
      "print(newc_list)\n",
      "``` --> Text length need to be between 0 and 5000 characters\n",
      "✅ Retranslated: 3\n",
      "❌ Still failed: 1\n"
     ]
    },
    {
     "name": "stderr",
     "output_type": "stream",
     "text": [
      "\n"
     ]
    }
   ],
   "source": [
    "import json\n",
    "import time\n",
    "import re\n",
    "from deep_translator import GoogleTranslator\n",
    "from tqdm import tqdm\n",
    "\n",
    "# === Load failed long translations ===\n",
    "with open(\"translation_failures.jsonl\", \"r\", encoding=\"utf-8\") as f:\n",
    "    data = [json.loads(line) for line in f if line.strip()]\n",
    "\n",
    "success = []\n",
    "failed = []\n",
    "\n",
    "def chunk_text(text, max_len=4500):\n",
    "    # Split into sentences using regex (handles '.', '?', '!')\n",
    "    sentences = re.split(r'(?<=[.?!])\\s+', text)\n",
    "    chunks = []\n",
    "    current = \"\"\n",
    "    for s in sentences:\n",
    "        if len(current) + len(s) < max_len:\n",
    "            current += s + \" \"\n",
    "        else:\n",
    "            chunks.append(current.strip())\n",
    "            current = s + \" \"\n",
    "    if current:\n",
    "        chunks.append(current.strip())\n",
    "    return chunks\n",
    "\n",
    "for item in tqdm(data):\n",
    "    text = item[\"instruction\"]\n",
    "    if len(text) < 4500:\n",
    "        failed.append(item)\n",
    "        continue\n",
    "\n",
    "    try:\n",
    "        chunks = chunk_text(text)\n",
    "        translated_chunks = []\n",
    "        for chunk in chunks:\n",
    "            translated = GoogleTranslator(source='en', target='ms').translate(chunk)\n",
    "            translated_chunks.append(translated)\n",
    "            time.sleep(1)  # Avoid rate-limiting\n",
    "\n",
    "        full_translation = \" \".join(translated_chunks)\n",
    "        item[\"text_ms\"] = full_translation\n",
    "        success.append(item)\n",
    "    except Exception as e:\n",
    "        print(f\"Failed: {e}\")\n",
    "        item[\"text_ms\"] = \"[RETRANSLATION_FAILED]\"\n",
    "        failed.append(item)\n",
    "\n",
    "# === Save retried translations ===\n",
    "with open(\"retranslated_longtext_fixed.jsonl\", \"w\", encoding=\"utf-8\") as f:\n",
    "    for item in success:\n",
    "        f.write(json.dumps(item, ensure_ascii=False) + \"\\n\")\n",
    "\n",
    "with open(\"still_failed_longtext.jsonl\", \"w\", encoding=\"utf-8\") as f:\n",
    "    for item in failed:\n",
    "        f.write(json.dumps(item, ensure_ascii=False) + \"\\n\")\n",
    "\n",
    "print(f\"✅ Retranslated: {len(success)}\")\n",
    "print(f\"❌ Still failed: {len(failed)}\")\n"
   ]
  },
  {
   "cell_type": "code",
   "execution_count": 4,
   "id": "1ad350c3",
   "metadata": {},
   "outputs": [],
   "source": [
    "import json\n",
    "import re\n",
    "\n",
    "# Step 1: Load original data with `prompt`\n",
    "with open(\"original train.jsonl\", \"r\", encoding=\"utf-8\") as f:\n",
    "    original_data = [json.loads(line.strip()) for line in f if line.strip()]\n",
    "\n",
    "# Step 2: Extract input text from prompt\n",
    "extracted_inputs = []\n",
    "for item in original_data:\n",
    "    prompt = item.get(\"prompt\", \"\")\n",
    "    input_match = re.search(r\"### Input:\\s*(.*?)\\s*### Response:\", prompt, re.DOTALL)\n",
    "    if input_match:\n",
    "        extracted_inputs.append(input_match.group(1).strip())\n",
    "    else:\n",
    "        extracted_inputs.append(\"\")  # If input not found, use empty string\n",
    "\n",
    "# Step 3: Load the final cleaned dataset (without input)\n",
    "with open(\"final_train.jsonl\", \"r\", encoding=\"utf-8\") as f:\n",
    "    final_data = [json.loads(line.strip()) for line in f if line.strip()]\n",
    "\n",
    "# Step 4: Add input after instruction without changing other fields\n",
    "updated_data = []\n",
    "for entry, input_text in zip(final_data, extracted_inputs):\n",
    "    new_entry = {}\n",
    "\n",
    "    # Ensure 'instruction' is first\n",
    "    new_entry[\"instruction\"] = entry.get(\"instruction\", \"\")\n",
    "    # Add extracted input\n",
    "    new_entry[\"input\"] = input_text\n",
    "    # Add the rest of the keys (order: output, text_ms, etc.)\n",
    "    for key, value in entry.items():\n",
    "        if key not in new_entry:\n",
    "            new_entry[key] = value\n",
    "\n",
    "    updated_data.append(new_entry)\n",
    "\n",
    "# Step 5: Save to a new file\n",
    "with open(\"final_train_with_input.jsonl\", \"w\", encoding=\"utf-8\") as f:\n",
    "    for entry in updated_data:\n",
    "        f.write(json.dumps(entry, ensure_ascii=False) + \"\\n\")\n"
   ]
  },
  {
   "cell_type": "code",
   "execution_count": 1,
   "id": "957f8675",
   "metadata": {},
   "outputs": [
    {
     "name": "stdout",
     "output_type": "stream",
     "text": [
      "✅ Copied outputs from 85371 entries\n"
     ]
    }
   ],
   "source": [
    "import json\n",
    "\n",
    "# Read the source file (English with outputs)\n",
    "with open(\"cleaned_train.jsonl\", \"r\", encoding=\"utf-8\") as f:\n",
    "    english_data = [json.loads(line.strip()) for line in f if line.strip()]\n",
    "\n",
    "# Read the target file (Malay with empty outputs)\n",
    "with open(\"Python_Train_Data.jsonl\", \"r\", encoding=\"utf-8\") as f:\n",
    "    malay_data = [json.loads(line.strip()) for line in f if line.strip()]\n",
    "\n",
    "# Copy outputs from English to Malay data\n",
    "for i in range(min(len(english_data), len(malay_data))):\n",
    "    malay_data[i][\"output\"] = english_data[i][\"output\"]\n",
    "\n",
    "# Write the updated data back to Python_Train_Data.jsonl\n",
    "with open(\"Python_Train_Data.jsonl\", \"w\", encoding=\"utf-8\") as f:\n",
    "    for item in malay_data:\n",
    "        f.write(json.dumps(item, ensure_ascii=False) + \"\\n\")\n",
    "\n",
    "print(f\"✅ Copied outputs from {len(english_data)} entries\")"
   ]
  },
  {
   "cell_type": "code",
   "execution_count": null,
   "id": "e3b2372b",
   "metadata": {},
   "outputs": [],
   "source": []
  }
 ],
 "metadata": {
  "kernelspec": {
   "display_name": "Python 3",
   "language": "python",
   "name": "python3"
  },
  "language_info": {
   "codemirror_mode": {
    "name": "ipython",
    "version": 3
   },
   "file_extension": ".py",
   "mimetype": "text/x-python",
   "name": "python",
   "nbconvert_exporter": "python",
   "pygments_lexer": "ipython3",
   "version": "3.13.3"
  }
 },
 "nbformat": 4,
 "nbformat_minor": 5
}
