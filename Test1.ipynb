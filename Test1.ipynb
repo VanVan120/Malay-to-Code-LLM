{
 "cells": [
  {
   "cell_type": "code",
   "execution_count": 1,
   "id": "d631f892",
   "metadata": {},
   "outputs": [
    {
     "name": "stderr",
     "output_type": "stream",
     "text": [
      "c:\\Users\\user\\AppData\\Local\\Programs\\Python\\Python313\\Lib\\site-packages\\tqdm\\auto.py:21: TqdmWarning: IProgress not found. Please update jupyter and ipywidgets. See https://ipywidgets.readthedocs.io/en/stable/user_install.html\n",
      "  from .autonotebook import tqdm as notebook_tqdm\n"
     ]
    }
   ],
   "source": [
    "from datasets import load_dataset\n",
    "\n",
    "ds = load_dataset(\"iamtarun/code_instructions_120k_alpaca\")"
   ]
  },
  {
   "cell_type": "code",
   "execution_count": 2,
   "id": "0a11af2e",
   "metadata": {},
   "outputs": [
    {
     "name": "stdout",
     "output_type": "stream",
     "text": [
      "DatasetDict({\n",
      "    train: Dataset({\n",
      "        features: ['instruction', 'input', 'output', 'prompt'],\n",
      "        num_rows: 121959\n",
      "    })\n",
      "})\n"
     ]
    }
   ],
   "source": [
    "# Check keys (splits)\n",
    "print(ds)\n"
   ]
  },
  {
   "cell_type": "code",
   "execution_count": 3,
   "id": "0a01d887",
   "metadata": {},
   "outputs": [],
   "source": [
    "import json\n",
    "\n",
    "# Perform 70-30 train-test split\n",
    "split_dataset = ds['train'].train_test_split(test_size=0.3, seed=42)\n",
    "\n",
    "# Save train data to JSONL\n",
    "with open(\"train.jsonl\", \"w\", encoding=\"utf-8\") as f_train:\n",
    "    for example in split_dataset['train']:\n",
    "        json.dump({\n",
    "            \"prompt\": example[\"prompt\"],\n",
    "            \"output\": example[\"output\"]\n",
    "        }, f_train)\n",
    "        f_train.write('\\n')\n",
    "\n",
    "# Save test data to JSONL\n",
    "with open(\"test.jsonl\", \"w\", encoding=\"utf-8\") as f_test:\n",
    "    for example in split_dataset['test']:\n",
    "        json.dump({\n",
    "            \"prompt\": example[\"prompt\"],\n",
    "            \"output\": example[\"output\"]\n",
    "        }, f_test)\n",
    "        f_test.write('\\n')\n"
   ]
  },
  {
   "cell_type": "code",
   "execution_count": 8,
   "id": "f839c09c",
   "metadata": {},
   "outputs": [
    {
     "name": "stdout",
     "output_type": "stream",
     "text": [
      "🔄 Translating English prompts to Malay...\n"
     ]
    },
    {
     "name": "stderr",
     "output_type": "stream",
     "text": [
      "  2%|▏         | 1921/85371 [36:32<20:39:34,  1.12it/s]"
     ]
    },
    {
     "name": "stdout",
     "output_type": "stream",
     "text": [
      "⚠️ Translation error: Rewrite the given code using C++. --> No translation was found using the current translator. Try another translator?\n"
     ]
    },
    {
     "name": "stderr",
     "output_type": "stream",
     "text": [
      "  2%|▏         | 2108/85371 [40:08<27:28:02,  1.19s/it]"
     ]
    },
    {
     "name": "stdout",
     "output_type": "stream",
     "text": [
      "⚠️ Translation error: Create a Python file and import the following modules: math, PIL.Image, PIL.ImageDraw, django.http.HttpResponse, django.http.Http404, and django.shortcuts.render_to_response. Define a variable named \"google_dist\" and set it equal to 20037508.34. Define a function named \"leaflet_polygon_options\" that takes a \"boundary\" argument. Inside the function, count the number of Leaflet objects that have a leafletconstituency__constituency__boundary attribute equal to the \"boundary\" argument and store it in a variable named \"n\". Return a dictionary with keys \"fill\" and \"outline\" and values that are the result of calling the \"leaflet_colour\" function with the \"n\" argument and (0,0,0,170), respectively. Define a function named \"leaflet_popup\" that takes a \"boundary\" argument. Inside the function, create a list of tuples named \"party_list\" where each tuple has a Party object and a queryset of Leaflet objects that have a leafletconstituency__constituency__boundary attribute equal to the \"boundary\" argument and a publisher_party attribute equal to the Party object. Use a list comprehension to generate the Party objects by filtering the Party model for objects that have a leaflet__leafletconstituency__constituency__boundary attribute equal to the \"boundary\" argument, then sort the resulting queryset by the \"name\" attribute, and remove duplicates using the \"distinct\" method. Append to the \"party_list\" a tuple with a dictionary with a \"name\" key and \"Uncategorised\" value and a queryset of Leaflet objects that have a leafletconstituency__constituency__boundary attribute equal to the \"boundary\" argument and a publisher_party attribute equal to None if there are any such Leaflet objects. Return a tuple with a string \"boundaries/leaflets.html\" and a dictionary with keys \"constituency\" and \"party_list\" and values equal to the \"boundary.constituency\" attribute and the \"party_list\" variable, respectively. Define a function named \"leaflet_colour\" that takes an \"n\" argument. Inside the function, calculate a logarithm of \"n+1\" with base 2 and store it in a variable named \"r\". Return a tuple of four integers that are the result of applying mathematical operations to \"r\" and constants. Define a function named \"leaflet_keyvalues\" that returns a list of integers. Define a dictionary named \"maps\" with a key \"leaflets\" and a value that is a dictionary with keys \"polygon_options\", \"template\", \"colour\", and \"keyvalues\" and values that are the \"leaflet_polygon_options\" function, a tuple with a string \"boundaries/leaflets.html\" and the \"leaflet_popup\" function, the \"leaflet_colour\" function, and the \"leaflet_keyvalues\" function, respectively. Define a function named \"getDBzoom\" that takes a \"z\" argument. Inside the function, check if the integer value of \"z\" is greater than 10. If it is, return 10. Otherwise, return the integer value of \"z\". Define a function named \"view_key\" that takes a \"request\", \"mapname\", \"n\", \"x\", and \"y\" arguments. Inside the function, create an Image object with RGBA mode and dimensions equal to \"x\" and \"y\" arguments, and a color that is the result of calling the \"colour\" function of the \"maps[mapname]\" dictionary with the integer value of \"n\" argument. Create an HttpResponse object with \"image/png\" mimetype. Save the Image object to the HttpResponse object with \"PNG\" format and return the HttpResponse object. Define a function named \"view_map\" that takes a \"request\" and \"mapname\" arguments. Inside the function, import the \"settings\" module from the \"django.conf\" package. Return a render_to_response function with a string \"boundaries/map.html\" and a dictionary with keys \"MEDIA_URL\", \"mapname\", and \"keyvalues\" and values that are the \"settings.MEDIA_URL\" attribute, the \"mapname\" argument, and the \"keyvalues\" attribute of the \"maps[mapname]\" dictionary, respectively. Define a function named \"tile\" that takes a \"request\", \"mapname\", \"tz\", \"tx\", \"ty\", \"tilex\", and \"tiley\" arguments. Inside the function, get the \"options\" attribute of the \"maps[str(mapname)]\" dictionary. Calculate the west, south, east, and north coordinates of the tile using the \"getTileRect\" function with \"tx\", \"ty\", and \"tz\" arguments. Calculate the \"zoom\" variable as 2 to the power of the float value of \"tz\" argument. Create an Image object with RGBA mode and dimensions equal to (256, 256) and a color that is a tuple of four integers that represent a transparent color. Create an ImageDraw object with the Image object. Calculate the \"dbz\" variable as the result of calling the \"getDBzoom\" function with the integer value of \"tz\" argument. Filter the Boundary model for objects that have a \"zoom\" attribute equal to \"dbz\" variable and \"south\", \"north\", \"east\", and \"west\" attributes that satisfy certain conditions. Iterate over the resulting queryset and for each object, get the \"polygon_options\" attribute of the \"options\" dictionary by calling the \"polygon_options\" function with the Boundary object as an argument. Evaluate the \"boundary\" attribute of the Boundary object and store it in a variable named \"coords\". Create an empty list named \"l\". Iterate over the \"coords\" variable and for each tuple of coordinates, calculate the \"x\" and \"y\" variables using mathematical operations and append a tuple of two integers to the \"l\" list. Draw a polygon with the \"l\" list and the \"polygon_options\" attribute of the \"options\" dictionary using the ImageDraw object. Delete the ImageDraw object. Create an HttpResponse object with \"image/png\" mimetype. Save the Image object to the HttpResponse object with \"PNG\" format and return the HttpResponse object. Define a function named \"popup\" that takes a \"request\", \"mapname\", \"x\", \"y\", and \"z\" arguments. Inside the function, get the \"options\" attribute of the \"maps[str(mapname)]\" dictionary. Calculate the \"x\" and \"y\" variables as float values of \"x\" and \"y\" arguments, respectively. Calculate the \"dbz\" variable as the result of calling the \"getDBzoom\" function with the \"z\" argument. Filter the Boundary model for objects that have a \"zoom\" attribute equal to the integer value of \"dbz\" argument and \"south\", \"north\", \"east\", and \"west\" attributes that satisfy certain conditions. Iterate over the resulting queryset and for each object, evaluate the \"boundary\" attribute and store it in a variable named \"coords\". Create a boolean variable named \"inside\" and set it to False. Iterate over the \"coords\" variable and for each pair of consecutive tuples of coordinates, check if the \"y\" variable is between the \"vy0\" and \"vy1\" variables of the tuples and if the \"x\" variable is less than a certain value calculated using mathematical operations. If the conditions are satisfied, toggle the \"inside\" variable. If the \"inside\" variable is True, return a render_to_response function with arguments that are the result of calling the \"template\" attribute of the \"options\" dictionary with the Boundary object as an argument. Raise an Http404 exception if the \"inside\" variable is False after iterating over all the objects. Define a function named \"to_google\" that takes \"x\" and \"tilesAtThisZoom\" arguments. Inside the function, calculate a certain value using mathematical operations and return it. Define a function named \"getTileRect\" that takes \"xt\", \"yt\", and \"zoomt\" arguments. Inside the function, calculate the \"zoom\", \"x\", and \"y\" variables as integer values of \"zoomt\", \"xt\", and \"yt\" arguments, respectively. Calculate the \"tilesAtThisZoom\" variable as 2 to the power of \"zoom\" variable. Calculate the west, south, east, and north coordinates of the tile using the \"to_google\" function with \"x\", \"tilesAtThisZoom\" arguments and certain mathematical operations. Return a tuple of four float values that represent the west, south, east, and north coordinates of the tile. --> Text length need to be between 0 and 5000 characters\n"
     ]
    },
    {
     "name": "stderr",
     "output_type": "stream",
     "text": [
      "  7%|▋         | 5753/85371 [1:49:29<27:33:41,  1.25s/it]"
     ]
    },
    {
     "name": "stdout",
     "output_type": "stream",
     "text": [
      "⚠️ Translation error: Create a React component that wraps around multiple inputs and hides them when the component is in a “disabled” state. --> No translation was found using the current translator. Try another translator?\n"
     ]
    },
    {
     "name": "stderr",
     "output_type": "stream",
     "text": [
      "  8%|▊         | 6855/85371 [2:10:13<16:25:05,  1.33it/s]"
     ]
    },
    {
     "name": "stdout",
     "output_type": "stream",
     "text": [
      "⚠️ Translation error: Create a Swift program that sorts a given collection of objects according to their property values. --> No translation was found using the current translator. Try another translator?\n"
     ]
    },
    {
     "name": "stderr",
     "output_type": "stream",
     "text": [
      " 10%|█         | 8565/85371 [2:42:37<16:57:22,  1.26it/s]"
     ]
    },
    {
     "name": "stdout",
     "output_type": "stream",
     "text": [
      "⚠️ Translation error: Edit this code snippet in Python to remove any errors and improve readability. --> No translation was found using the current translator. Try another translator?\n"
     ]
    },
    {
     "name": "stderr",
     "output_type": "stream",
     "text": [
      " 12%|█▏        | 10574/85371 [3:19:26<22:34:05,  1.09s/it]"
     ]
    },
    {
     "name": "stdout",
     "output_type": "stream",
     "text": [
      "⚠️ Translation error: Design an optimal algorithm for sorting an array of unique integers in increasing order. --> No translation was found using the current translator. Try another translator?\n"
     ]
    },
    {
     "name": "stderr",
     "output_type": "stream",
     "text": [
      " 12%|█▏        | 10575/85371 [3:19:26<17:24:38,  1.19it/s]"
     ]
    },
    {
     "name": "stdout",
     "output_type": "stream",
     "text": [
      "⚠️ Translation error: Write a function in PHP to convert a given number into words. --> No translation was found using the current translator. Try another translator?\n"
     ]
    },
    {
     "name": "stderr",
     "output_type": "stream",
     "text": [
      " 14%|█▎        | 11656/85371 [3:39:12<21:31:04,  1.05s/it]"
     ]
    },
    {
     "name": "stdout",
     "output_type": "stream",
     "text": [
      "⚠️ Translation error: Design a function in Pascal that sorts an array of integers from lowest to highest values. --> No translation was found using the current translator. Try another translator?\n"
     ]
    },
    {
     "name": "stderr",
     "output_type": "stream",
     "text": [
      " 14%|█▍        | 11858/85371 [3:42:47<14:00:56,  1.46it/s]"
     ]
    },
    {
     "name": "stdout",
     "output_type": "stream",
     "text": [
      "⚠️ Translation error: Write a function to find the nth Fibonacci Number using an exponential time complexity. --> No translation was found using the current translator. Try another translator?\n"
     ]
    },
    {
     "name": "stderr",
     "output_type": "stream",
     "text": [
      " 14%|█▍        | 12329/85371 [3:51:42<19:49:03,  1.02it/s]"
     ]
    },
    {
     "name": "stdout",
     "output_type": "stream",
     "text": [
      "⚠️ Translation error: Create an Angular application for a web-based survey. The application should have multiple survey pages for collecting user data as well as a feature to store and review responses. --> No translation was found using the current translator. Try another translator?\n"
     ]
    },
    {
     "name": "stderr",
     "output_type": "stream",
     "text": [
      " 15%|█▍        | 12773/85371 [3:59:59<15:35:18,  1.29it/s]"
     ]
    },
    {
     "name": "stdout",
     "output_type": "stream",
     "text": [
      "⚠️ Translation error: Construct a program that parses a given string for all of its numbers and returns them as a list in Python. --> No translation was found using the current translator. Try another translator?\n"
     ]
    },
    {
     "name": "stderr",
     "output_type": "stream",
     "text": [
      " 15%|█▍        | 12774/85371 [4:00:00<16:11:57,  1.24it/s]"
     ]
    },
    {
     "name": "stdout",
     "output_type": "stream",
     "text": [
      "⚠️ Translation error: Write Java code to calculate the roots of a quadratic equation. --> No translation was found using the current translator. Try another translator?\n"
     ]
    },
    {
     "name": "stderr",
     "output_type": "stream",
     "text": [
      " 15%|█▍        | 12775/85371 [4:00:00<13:17:48,  1.52it/s]"
     ]
    },
    {
     "name": "stdout",
     "output_type": "stream",
     "text": [
      "⚠️ Translation error: Produce a machine learning model to recognize handwritten digits. --> No translation was found using the current translator. Try another translator?\n"
     ]
    },
    {
     "name": "stderr",
     "output_type": "stream",
     "text": [
      " 15%|█▌        | 13120/85371 [4:06:20<21:45:55,  1.08s/it]"
     ]
    },
    {
     "name": "stdout",
     "output_type": "stream",
     "text": [
      "⚠️ Translation error: Develop a Java program to perform linear search on the given list. --> No translation was found using the current translator. Try another translator?\n"
     ]
    },
    {
     "name": "stderr",
     "output_type": "stream",
     "text": [
      " 16%|█▌        | 13299/85371 [4:09:37<16:53:23,  1.19it/s]"
     ]
    },
    {
     "name": "stdout",
     "output_type": "stream",
     "text": [
      "⚠️ Translation error: Create a Python program to read the contents of a JSON document and store it in a list. --> No translation was found using the current translator. Try another translator?\n"
     ]
    },
    {
     "name": "stderr",
     "output_type": "stream",
     "text": [
      " 17%|█▋        | 14294/85371 [4:27:32<16:25:25,  1.20it/s]"
     ]
    },
    {
     "name": "stdout",
     "output_type": "stream",
     "text": [
      "⚠️ Translation error: Categorize a list of words using a decision tree --> No translation was found using the current translator. Try another translator?\n"
     ]
    },
    {
     "name": "stderr",
     "output_type": "stream",
     "text": [
      " 17%|█▋        | 14296/85371 [4:27:35<21:08:42,  1.07s/it]"
     ]
    },
    {
     "name": "stdout",
     "output_type": "stream",
     "text": [
      "⚠️ Translation error: Create an HTML page containing a basic JavaScript calculator application. --> No translation was found using the current translator. Try another translator?\n"
     ]
    },
    {
     "name": "stderr",
     "output_type": "stream",
     "text": [
      " 17%|█▋        | 14656/85371 [4:34:17<17:54:07,  1.10it/s]"
     ]
    },
    {
     "name": "stdout",
     "output_type": "stream",
     "text": [
      "⚠️ Translation error: Generate a SQL query to list the name and age of all the customers in a table called 'customers'. --> No translation was found using the current translator. Try another translator?\n"
     ]
    },
    {
     "name": "stderr",
     "output_type": "stream",
     "text": [
      " 18%|█▊        | 14979/85371 [4:40:13<21:23:55,  1.09s/it]"
     ]
    },
    {
     "name": "stdout",
     "output_type": "stream",
     "text": [
      "⚠️ Translation error: Write a function in Python to calculate the maximum value of two given numbers. --> No translation was found using the current translator. Try another translator?\n"
     ]
    },
    {
     "name": "stderr",
     "output_type": "stream",
     "text": [
      " 19%|█▉        | 16489/85371 [5:08:26<17:23:23,  1.10it/s]"
     ]
    },
    {
     "name": "stdout",
     "output_type": "stream",
     "text": [
      "⚠️ Translation error: Create a Java program to read data from a CSV and store it in an array. --> No translation was found using the current translator. Try another translator?\n"
     ]
    },
    {
     "name": "stderr",
     "output_type": "stream",
     "text": [
      " 20%|██        | 17279/85371 [5:22:51<17:46:29,  1.06it/s]"
     ]
    },
    {
     "name": "stdout",
     "output_type": "stream",
     "text": [
      "⚠️ Translation error: Write a PL/SQL query to display the first 10 records in a table. --> No translation was found using the current translator. Try another translator?\n"
     ]
    },
    {
     "name": "stderr",
     "output_type": "stream",
     "text": [
      " 21%|██        | 17953/85371 [5:35:52<20:07:00,  1.07s/it]"
     ]
    },
    {
     "name": "stdout",
     "output_type": "stream",
     "text": [
      "⚠️ Translation error: Convert a JSON string to an object. --> No translation was found using the current translator. Try another translator?\n"
     ]
    },
    {
     "name": "stderr",
     "output_type": "stream",
     "text": [
      " 22%|██▏       | 19169/85371 [5:58:13<49:04:33,  2.67s/it]"
     ]
    },
    {
     "name": "stdout",
     "output_type": "stream",
     "text": [
      "⚠️ Translation error: Request exception can happen due to an api connection error. Please check your connection and try again\n"
     ]
    },
    {
     "name": "stderr",
     "output_type": "stream",
     "text": [
      " 22%|██▏       | 19170/85371 [5:58:17<54:10:52,  2.95s/it]"
     ]
    },
    {
     "name": "stdout",
     "output_type": "stream",
     "text": [
      "⚠️ Translation error: Request exception can happen due to an api connection error. Please check your connection and try again\n"
     ]
    },
    {
     "name": "stderr",
     "output_type": "stream",
     "text": [
      " 22%|██▏       | 19171/85371 [5:58:18<44:39:44,  2.43s/it]"
     ]
    },
    {
     "name": "stdout",
     "output_type": "stream",
     "text": [
      "⚠️ Translation error: Request exception can happen due to an api connection error. Please check your connection and try again\n"
     ]
    },
    {
     "name": "stderr",
     "output_type": "stream",
     "text": [
      " 22%|██▏       | 19172/85371 [5:58:21<48:01:58,  2.61s/it]"
     ]
    },
    {
     "name": "stdout",
     "output_type": "stream",
     "text": [
      "⚠️ Translation error: Request exception can happen due to an api connection error. Please check your connection and try again\n"
     ]
    },
    {
     "name": "stderr",
     "output_type": "stream",
     "text": [
      " 22%|██▏       | 19173/85371 [5:58:32<91:56:34,  5.00s/it]"
     ]
    },
    {
     "name": "stdout",
     "output_type": "stream",
     "text": [
      "⚠️ Translation error: Request exception can happen due to an api connection error. Please check your connection and try again\n"
     ]
    },
    {
     "name": "stderr",
     "output_type": "stream",
     "text": [
      " 23%|██▎       | 19652/85371 [6:08:01<16:05:24,  1.13it/s]"
     ]
    },
    {
     "name": "stdout",
     "output_type": "stream",
     "text": [
      "⚠️ Translation error: Develop a web scraper to collect data from websites. --> No translation was found using the current translator. Try another translator?\n"
     ]
    },
    {
     "name": "stderr",
     "output_type": "stream",
     "text": [
      " 25%|██▍       | 21132/85371 [6:36:44<18:04:42,  1.01s/it]"
     ]
    },
    {
     "name": "stdout",
     "output_type": "stream",
     "text": [
      "⚠️ Translation error: Write a Kumo script to translate a given text from one language to another. --> No translation was found using the current translator. Try another translator?\n"
     ]
    },
    {
     "name": "stderr",
     "output_type": "stream",
     "text": [
      " 25%|██▍       | 21133/85371 [6:36:46<22:15:53,  1.25s/it]"
     ]
    },
    {
     "name": "stdout",
     "output_type": "stream",
     "text": [
      "⚠️ Translation error: Create a Python program to display the current date in MM/DD/YYYY format. --> No translation was found using the current translator. Try another translator?\n"
     ]
    },
    {
     "name": "stderr",
     "output_type": "stream",
     "text": [
      " 25%|██▌       | 21455/85371 [6:42:53<19:58:41,  1.13s/it]"
     ]
    },
    {
     "name": "stdout",
     "output_type": "stream",
     "text": [
      "⚠️ Translation error: Write a JavaScript code to find the difference between the maximum and the minimum number in an array. --> No translation was found using the current translator. Try another translator?\n"
     ]
    },
    {
     "name": "stderr",
     "output_type": "stream",
     "text": [
      " 36%|███▌      | 30899/85371 [9:51:13<18:16:26,  1.21s/it]"
     ]
    },
    {
     "name": "stdout",
     "output_type": "stream",
     "text": [
      "⚠️ Translation error: 1. Import the Variance and math modules.\n",
      "2. Define a function called \"testVariance\" that takes no arguments.\n",
      "3. Inside the \"testVariance\" function, create a list called \"weighting\" with the values [2,2,2,2,2,2,2,2,2,2].\n",
      "4. Create four lists called \"test1\", \"test2\", \"test3\", and \"test4\" with the following values:\n",
      "- test1: [['artist1', 'artist2', 'artist3'],['genre1', 'genre2', 'genre3'],0,0,0,0,0,0,0,0]\n",
      "- test2: [['artist1'],['genre1', 'genre2'],1,2,3,4,5,6,7,8]\n",
      "- test3: [['artist1'],['genre1','genre2'],6,7,8,9,2,3,4,5]\n",
      "- test4: []\n",
      "5. Create two empty lists called \"diffList1\" and \"diffList2\".\n",
      "6. Create two lists called \"knownVal1\" and \"knownVal2\" with the following values:\n",
      "- knownVal1: [0,0,1,2,3,4,5,6,7,8]\n",
      "- knownVal2: [0,0,5,5,5,5,3,3,3,3]\n",
      "7. Inside the \"testVariance\" function, print the string \"1. Testing Variance\".\n",
      "8. Create a for loop that iterates over the range of the length of \"test1\".\n",
      "9. Inside the for loop, append the result of calling the \"getVariance\" function from the Variance module with \"test1\" and \"test2\" as arguments to \"diffList1\" minus the corresponding value in \"knownVal1\".\n",
      "10. Print the string \"\\t A. Variance between a populated list and a list of zeros ...\" inside the \"testVariance\" function.\n",
      "11. Create a second for loop that iterates over the range of the length of \"test2\".\n",
      "12. Inside the second for loop, append the result of calling the \"getVariance\" function from the Variance module with \"test3\" and \"test2\" as arguments to \"diffList2\" minus the corresponding value in \"knownVal2\".\n",
      "13. Print the string \"\\t B. Variance between 2 populated lists ...\" inside the \"testVariance\" function.\n",
      "14. Set the variable \"emptylist\" to -1.\n",
      "15. Print the string \"\\t C. Variance calculated on an empty List ...\" inside the \"testVariance\" function.\n",
      "16. Call the \"getVariance\" function from the Variance module with \"test3\" and \"test4\" as arguments and assign the result to \"emptylistValue\".\n",
      "17. Create an if statement that checks if \"emptylistValue\" is equal to \"emptylist\".\n",
      "18. Inside the if statement, create a for loop that iterates over the range of the length of \"diffList1\".\n",
      "19. Inside the for loop, create an if statement that checks if the absolute value of either \"diffList1[i]\" or \"diffList2[i]\" is greater than 0.0000001.\n",
      "20. Inside the if statement from step 19, return False.\n",
      "21. Outside the if statement from step 17, return True.\n",
      "22. Define a function called \"testWeightedDifference\" that takes no arguments.\n",
      "23. Inside the \"testWeightedDifference\" function, create a list called \"weighting\" with the values [2,2,2,2,2,2,2,2,2,2].\n",
      "24. Create a list called \"badWeighting\" with no values.\n",
      "25. Create four lists called \"test1\", \"test2\", \"test3\", and \"test4\" with the following values:\n",
      "- test1: [['artist1', 'artist2', 'artist3'],['genre1', 'genre2', 'genre3'],0,0,0,0,0,0,0,0]\n",
      "- test2: [['artist1'],['genre1', 'genre2'],1,2,3,4,5,6,7,8]\n",
      "- test3: [['artist1'],['genre1', 'genre2'],6,7,8,9,2,3,4,5]\n",
      "- test4: []\n",
      "26. Create three empty lists called \"diffList1\", \"diffList2\", and \"diffList3\".\n",
      "27. Create two lists called \"knownVal1\" and \"knownVal2\" with the following values:\n",
      "- knownVal1: [0,0,2,4,6,8,10,12,14,16]\n",
      "- knownVal2: [0,0,10,10,10,10,6,6,6,6]\n",
      "28. Inside the \"testWeightedDifference\" function, print the string \"2. Testing Weighted Difference\".\n",
      "29. Create a for loop that iterates over the range of the length of \"test1\".\n",
      "30. Inside the for loop, append the result of calling the \"getWeightedDifference\" function from the Variance module with \"test2\", \"test1\", and \"weighting\" as arguments to \"diffList1\" minus the corresponding value in \"knownVal1\".\n",
      "31. Print the string \"\\t A. Weighted Difference between a populated list and a list of zeros ...\" inside the \"testWeightedDifference\" function.\n",
      "32. Create a second for loop that iterates over the range of the length of \"test1\".\n",
      "33. Inside the second for loop, append the result of calling the \"getWeightedDifference\" function from the Variance module with \"test3\", \"test2\", and \"weighting\" as arguments to \"diffList2\" minus the corresponding value in \"knownVal2\".\n",
      "34. Print the string \"\\t B. Weighted Difference between 2 populated lists ...\" inside the \"testWeightedDifference\" function.\n",
      "35. Print the string \"\\t C. Testing when Weighting is an empty list ...\" inside the \"testWeightedDifference\" function.\n",
      "36. Call the \"getWeightedDifference\" function from the Variance module with \"test3\", \"test2\", and \"badWeighting\" as arguments and assign the result to \"diffList3\".\n",
      "37. Print the string \"\\t D.Testing when one of the lists is an empty list ...\" inside the \"testWeightedDifference\" function.\n",
      "38. Call the \"getWeightedDifference\" function from the Variance module with \"test4\", \"test2\", and \"weighting\" as arguments and assign the result to \"emptylist\".\n",
      "39. Set the variable \"emptylistValue\" to -1.\n",
      "40. Create an if statement that checks if \"emptylist\" is equal to \"emptylistValue\".\n",
      "41. Inside the if statement, create a for loop that iterates over the range of the length of \"diffList1\".\n",
      "42. Inside the for loop, create an if statement that checks if the absolute value of either \"diffList1[i]\" or \"diffList2[i]\" is greater than 0.0000001.\n",
      "43. Inside the if statement from step 42, return False.\n",
      "44. Outside the if statement from step 40, return True.\n",
      "45. Define a function called \"testgetNewWeight\" that takes no arguments.\n",
      "46. Inside the \"testgetNewWeight\" function, create a list called \"badstddevs\" with no values.\n",
      "47. Create a list called \"stddevs\" with the values [1.0,2.0,3.0,4.0,5.0,6.0,7.0,8.0].\n",
      "48. Create a list called \"knownVal1\" with the values [1, 1, 1, 0.5, 0.333, 0.25, 0.2, 0.167, 0.143, 0.125].\n",
      "49. Inside the \"testgetNewWeight\" function, print the string \"3. Testing getNewWeight\".\n",
      "50. Print the string \"\\t A. getNewWeight when stddevs is empty ...\" inside the \"testgetNewWeight\" function.\n",
      "51. Call the \"getNewWeight\" function from the Variance module with \"badstddevs\" as an argument and assign the result to \"emptylist\".\n",
      "52. Set the variable \"emptylistValue\" to -1.\n",
      "53. Create a for loop that iterates over the range of the length of \"knownVal1\".\n",
      "54. Inside the for loop, append the result of calling the \"getNewWeight\" function from the Variance module with \"stddevs\" as an argument to \"diffList\" minus the corresponding value in \"knownVal1\".\n",
      "55. Create an if statement that checks if \"emptylist\" is equal to \"emptylistValue\".\n",
      "56. Inside the if statement, create a for loop that iterates over the range of the length of \"diffList\".\n",
      "57. Inside the for loop, create an if statement that checks if \"diffList[i]\" is greater than 0.0000001.\n",
      "58. Inside the if statement from step 57, return False.\n",
      "59. Outside the if statement from step 55, return True.\n",
      "60. Define a function called \"filter2sigmaTest\" that takes no arguments.\n",
      "61. Inside the \" --> Text length need to be between 0 and 5000 characters\n"
     ]
    },
    {
     "name": "stderr",
     "output_type": "stream",
     "text": [
      " 37%|███▋      | 31614/85371 [10:05:54<16:45:21,  1.12s/it]"
     ]
    },
    {
     "name": "stdout",
     "output_type": "stream",
     "text": [
      "⚠️ Translation error: Develop a JavaScript function to compute the mathematical expression '3x^2 + 4x + 5'. --> No translation was found using the current translator. Try another translator?\n"
     ]
    },
    {
     "name": "stderr",
     "output_type": "stream",
     "text": [
      " 37%|███▋      | 31619/85371 [10:05:58<14:03:24,  1.06it/s]"
     ]
    },
    {
     "name": "stdout",
     "output_type": "stream",
     "text": [
      "⚠️ Translation error: Generate a code to convert a list of integers into a list of strings --> No translation was found using the current translator. Try another translator?\n"
     ]
    },
    {
     "name": "stderr",
     "output_type": "stream",
     "text": [
      " 37%|███▋      | 31674/85371 [10:07:07<14:41:00,  1.02it/s]"
     ]
    },
    {
     "name": "stdout",
     "output_type": "stream",
     "text": [
      "⚠️ Translation error: Create an Android application with two activities. The first activity should be the main activity and will display a list of items. The second activity should be used to add a new item to the list. --> No translation was found using the current translator. Try another translator?\n"
     ]
    },
    {
     "name": "stderr",
     "output_type": "stream",
     "text": [
      " 37%|███▋      | 31823/85371 [10:10:14<17:00:14,  1.14s/it]"
     ]
    },
    {
     "name": "stdout",
     "output_type": "stream",
     "text": [
      "⚠️ Translation error: Create a function to sort objects in an array in descending order based on their age. --> No translation was found using the current translator. Try another translator?\n"
     ]
    },
    {
     "name": "stderr",
     "output_type": "stream",
     "text": [
      " 37%|███▋      | 31910/85371 [10:12:03<16:48:14,  1.13s/it]"
     ]
    },
    {
     "name": "stdout",
     "output_type": "stream",
     "text": [
      "⚠️ Translation error: Generate a Python program to filter out a list of numbers and keep only those that are prime --> No translation was found using the current translator. Try another translator?\n"
     ]
    },
    {
     "name": "stderr",
     "output_type": "stream",
     "text": [
      " 39%|███▊      | 32974/85371 [10:33:58<15:07:03,  1.04s/it]"
     ]
    },
    {
     "name": "stdout",
     "output_type": "stream",
     "text": [
      "⚠️ Translation error: Develop a web page animation in HTML and CSS that makes a message appear when you hover over it. --> No translation was found using the current translator. Try another translator?\n"
     ]
    },
    {
     "name": "stderr",
     "output_type": "stream",
     "text": [
      " 40%|███▉      | 33846/85371 [10:51:54<12:40:09,  1.13it/s]"
     ]
    },
    {
     "name": "stdout",
     "output_type": "stream",
     "text": [
      "⚠️ Translation error: Write a JavaScript program to find and replace all occurrences of a string within another string. --> No translation was found using the current translator. Try another translator?\n"
     ]
    },
    {
     "name": "stderr",
     "output_type": "stream",
     "text": [
      " 41%|████      | 34789/85371 [11:11:22<14:27:51,  1.03s/it]"
     ]
    },
    {
     "name": "stdout",
     "output_type": "stream",
     "text": [
      "⚠️ Translation error: Generate a random password that consists of 8 characters combination of upper and lowercase letters, and numbers. --> No translation was found using the current translator. Try another translator?\n"
     ]
    },
    {
     "name": "stderr",
     "output_type": "stream",
     "text": [
      " 41%|████      | 34790/85371 [11:11:22<11:41:42,  1.20it/s]"
     ]
    },
    {
     "name": "stdout",
     "output_type": "stream",
     "text": [
      "⚠️ Translation error: Code a dialogue system to mimic a conversation between two people. --> No translation was found using the current translator. Try another translator?\n"
     ]
    },
    {
     "name": "stderr",
     "output_type": "stream",
     "text": [
      " 41%|████      | 34791/85371 [11:11:23<10:50:59,  1.29it/s]"
     ]
    },
    {
     "name": "stdout",
     "output_type": "stream",
     "text": [
      "⚠️ Translation error: Generate a program in Python for summing up the elements of an array. --> No translation was found using the current translator. Try another translator?\n"
     ]
    },
    {
     "name": "stderr",
     "output_type": "stream",
     "text": [
      " 41%|████      | 34912/85371 [11:13:53<13:36:09,  1.03it/s]"
     ]
    },
    {
     "name": "stdout",
     "output_type": "stream",
     "text": [
      "⚠️ Translation error: Construct an Excel spreadhseet to compare product prices across two different stores. --> No translation was found using the current translator. Try another translator?\n"
     ]
    },
    {
     "name": "stderr",
     "output_type": "stream",
     "text": [
      " 41%|████      | 35136/85371 [11:18:22<9:22:42,  1.49it/s] "
     ]
    },
    {
     "name": "stdout",
     "output_type": "stream",
     "text": [
      "⚠️ Translation error: Create a server side function to generate a random password of defined length. --> No translation was found using the current translator. Try another translator?\n"
     ]
    },
    {
     "name": "stderr",
     "output_type": "stream",
     "text": [
      " 41%|████▏     | 35322/85371 [11:22:10<16:50:59,  1.21s/it]"
     ]
    },
    {
     "name": "stdout",
     "output_type": "stream",
     "text": [
      "⚠️ Translation error: Write a function that takes in a parameter for a temperature (in Fahrenheit) and returns a corresponding temperature (in Celsius). --> No translation was found using the current translator. Try another translator?\n"
     ]
    },
    {
     "name": "stderr",
     "output_type": "stream",
     "text": [
      " 41%|████▏     | 35325/85371 [11:22:17<28:58:14,  2.08s/it]"
     ]
    },
    {
     "name": "stdout",
     "output_type": "stream",
     "text": [
      "⚠️ Translation error: Create a function in Python that takes an array of integers as input, checks if the array is sorted,  and, if not, sorts it. --> No translation was found using the current translator. Try another translator?\n"
     ]
    },
    {
     "name": "stderr",
     "output_type": "stream",
     "text": [
      " 42%|████▏     | 35469/85371 [11:25:06<9:05:38,  1.52it/s] "
     ]
    },
    {
     "name": "stdout",
     "output_type": "stream",
     "text": [
      "⚠️ Translation error: Write a function to classify emails into spam or not spam. --> No translation was found using the current translator. Try another translator?\n",
      "⚠️ Translation error: Create a program to classify a given set of strings as either being a valid number or not. --> No translation was found using the current translator. Try another translator?\n"
     ]
    },
    {
     "name": "stderr",
     "output_type": "stream",
     "text": [
      " 42%|████▏     | 35471/85371 [11:25:07<5:18:29,  2.61it/s]"
     ]
    },
    {
     "name": "stdout",
     "output_type": "stream",
     "text": [
      "⚠️ Translation error: Compose a method that accepts two strings and determines if one string is an anagram of the other. --> No translation was found using the current translator. Try another translator?\n",
      "⚠️ Translation error: Suggest a solution for the following prompt. --> No translation was found using the current translator. Try another translator?\n"
     ]
    },
    {
     "name": "stderr",
     "output_type": "stream",
     "text": [
      " 42%|████▏     | 35472/85371 [11:25:08<7:52:54,  1.76it/s]"
     ]
    },
    {
     "name": "stdout",
     "output_type": "stream",
     "text": [
      "⚠️ Translation error: Create a React-based webapp for making online orders. This application should have interfaces for adding items to the cart, checking out, and viewing the total cost. --> No translation was found using the current translator. Try another translator?\n"
     ]
    },
    {
     "name": "stderr",
     "output_type": "stream",
     "text": [
      " 42%|████▏     | 36099/85371 [11:38:01<13:25:57,  1.02it/s]"
     ]
    },
    {
     "name": "stdout",
     "output_type": "stream",
     "text": [
      "⚠️ Translation error: Create a Ruby program to send a message using the Twilio API. --> No translation was found using the current translator. Try another translator?\n"
     ]
    },
    {
     "name": "stderr",
     "output_type": "stream",
     "text": [
      " 42%|████▏     | 36252/85371 [11:41:16<17:14:08,  1.26s/it]"
     ]
    },
    {
     "name": "stdout",
     "output_type": "stream",
     "text": [
      "⚠️ Translation error: Generate a program to print out the diagonal elements of a given matrix. --> No translation was found using the current translator. Try another translator?\n"
     ]
    },
    {
     "name": "stderr",
     "output_type": "stream",
     "text": [
      " 42%|████▏     | 36253/85371 [11:41:17<16:05:29,  1.18s/it]"
     ]
    },
    {
     "name": "stdout",
     "output_type": "stream",
     "text": [
      "⚠️ Translation error: Create a web scraper that collects the titles and URLs of the top 10 news articles from a website. --> No translation was found using the current translator. Try another translator?\n"
     ]
    },
    {
     "name": "stderr",
     "output_type": "stream",
     "text": [
      " 44%|████▎     | 37332/85371 [12:04:01<14:53:40,  1.12s/it]"
     ]
    },
    {
     "name": "stdout",
     "output_type": "stream",
     "text": [
      "⚠️ Translation error: Write a SQL query to find the total number of orders placed by customers from the UK in the past two weeks. --> No translation was found using the current translator. Try another translator?\n"
     ]
    },
    {
     "name": "stderr",
     "output_type": "stream",
     "text": [
      " 44%|████▍     | 37363/85371 [12:04:44<15:12:26,  1.14s/it]"
     ]
    },
    {
     "name": "stdout",
     "output_type": "stream",
     "text": [
      "⚠️ Translation error: Implement a function in JavaScript that takes as input an array of numbers and returns the median of the array. --> No translation was found using the current translator. Try another translator?\n"
     ]
    },
    {
     "name": "stderr",
     "output_type": "stream",
     "text": [
      " 45%|████▍     | 38050/85371 [12:19:44<14:18:13,  1.09s/it]"
     ]
    },
    {
     "name": "stdout",
     "output_type": "stream",
     "text": [
      "⚠️ Translation error: Modify the code snippet to return a list of all the values in the dictionary that have the key `fruit`. --> No translation was found using the current translator. Try another translator?\n"
     ]
    },
    {
     "name": "stderr",
     "output_type": "stream",
     "text": [
      " 45%|████▍     | 38181/85371 [12:22:32<15:01:05,  1.15s/it]"
     ]
    },
    {
     "name": "stdout",
     "output_type": "stream",
     "text": [
      "⚠️ Translation error: Generate a function that takes in a number and returns the probability of a given event happening. --> No translation was found using the current translator. Try another translator?\n"
     ]
    },
    {
     "name": "stderr",
     "output_type": "stream",
     "text": [
      " 45%|████▍     | 38183/85371 [12:22:36<18:56:58,  1.45s/it]"
     ]
    },
    {
     "name": "stdout",
     "output_type": "stream",
     "text": [
      "⚠️ Translation error: Write a script to print all prime numbers between 10 and 30. --> No translation was found using the current translator. Try another translator?\n"
     ]
    },
    {
     "name": "stderr",
     "output_type": "stream",
     "text": [
      " 45%|████▍     | 38249/85371 [12:24:01<12:43:11,  1.03it/s]"
     ]
    },
    {
     "name": "stdout",
     "output_type": "stream",
     "text": [
      "⚠️ Translation error: Generate a code to generate a list of all prime numbers within a given range --> No translation was found using the current translator. Try another translator?\n"
     ]
    },
    {
     "name": "stderr",
     "output_type": "stream",
     "text": [
      " 46%|████▌     | 39253/85371 [12:45:20<12:22:38,  1.03it/s]"
     ]
    },
    {
     "name": "stdout",
     "output_type": "stream",
     "text": [
      "⚠️ Translation error: Create a robot to autonomously navigate a tabletop maze using a Raspberry Pi. --> No translation was found using the current translator. Try another translator?\n"
     ]
    },
    {
     "name": "stderr",
     "output_type": "stream",
     "text": [
      " 47%|████▋     | 40037/85371 [13:01:53<12:58:04,  1.03s/it]"
     ]
    },
    {
     "name": "stdout",
     "output_type": "stream",
     "text": [
      "⚠️ Translation error: Create a JavaScript program that removes all the special characters from a string. --> No translation was found using the current translator. Try another translator?\n"
     ]
    },
    {
     "name": "stderr",
     "output_type": "stream",
     "text": [
      " 48%|████▊     | 40605/85371 [13:13:29<20:26:44,  1.64s/it]"
     ]
    },
    {
     "name": "stdout",
     "output_type": "stream",
     "text": [
      "⚠️ Translation error: Design a program to type a message in a text box of a browser. --> No translation was found using the current translator. Try another translator?\n"
     ]
    },
    {
     "name": "stderr",
     "output_type": "stream",
     "text": [
      " 50%|████▉     | 42287/85371 [13:48:12<13:59:54,  1.17s/it]"
     ]
    },
    {
     "name": "stdout",
     "output_type": "stream",
     "text": [
      "⚠️ Translation error: Convert this Python function to JavaScript. --> No translation was found using the current translator. Try another translator?\n"
     ]
    },
    {
     "name": "stderr",
     "output_type": "stream",
     "text": [
      " 50%|█████     | 42953/85371 [14:02:28<13:16:26,  1.13s/it]"
     ]
    },
    {
     "name": "stdout",
     "output_type": "stream",
     "text": [
      "⚠️ Translation error: To run the double ended connect in a separate process and incorporate the minima and transition states found back into the master database, use the following code:\n",
      "\n",
      "1. Import the necessary modules:\n",
      "import multiprocessing as mp\n",
      "import sys\n",
      "import signal\n",
      "import logging\n",
      "import numpy as np\n",
      "from PyQt4 import QtCore, QtGui\n",
      "from pygmin.utils.events import Signal\n",
      "\n",
      "2. Define the UnboundMinimum and UnboundTransitionState classes:\n",
      "class UnboundMinimum(object):\n",
      "    def __init__(self, minimum):\n",
      "        self._id = minimum._id\n",
      "        self.energy = minimum.energy\n",
      "        self.coords = minimum.coords.copy()\n",
      "\n",
      "class UnboundTransitionState(object):\n",
      "    def __init__(self, ts):\n",
      "        self._id = ts._id\n",
      "        self.energy = ts.energy\n",
      "        self.coords = ts.coords.copy()\n",
      "        self.eigenvec = ts.eigenvec\n",
      "        self.eigenval = ts.eigenval\n",
      "        self._minimum1_id = ts._minimum1_id\n",
      "        self._minimum2_id = ts._minimum2_id\n",
      "\n",
      "3. Define the OutLog class for redirecting stdout or stderr:\n",
      "class OutLog(object):\n",
      "    \"\"\"for redirecting stdout or stderr\n",
      "    \n",
      "    everytime something is written to this object, it is sent through\n",
      "    the pipe `conn`.  \n",
      "    \n",
      "    from http://www.riverbankcomputing.com/pipermail/pyqt/2009-February/022025.html\n",
      "    \"\"\"\n",
      "    def __init__(self, conn):\n",
      "        self.conn = conn\n",
      "        self.message = \"\"\n",
      "\n",
      "    def write(self, m):\n",
      "        if len(m) > 0:\n",
      "            self.conn.send((\"stdout\", m))\n",
      "        return\n",
      "    \n",
      "    def flush(self):\n",
      "        pass\n",
      "\n",
      "4. Define the DECProcess class for running the double ended connect in a separate process:\n",
      "class DECProcess(mp.Process):\n",
      "    \"\"\"This object will run in a separate process and will actually do the connect run\n",
      "    \n",
      "    when the run is finished the minima and transition states found will be sent\n",
      "    back through the pipe as UnboundMinimum and UnboundTransitionState objects\n",
      "    \n",
      "    Parameters\n",
      "    ----------\n",
      "    comm : pipe\n",
      "        child end of a mp.Pipe()\n",
      "    system : \n",
      "    min1, min2 : \n",
      "        the minima to try to connect\n",
      "    pipe_stdout : bool\n",
      "        if true log messages will be sent back through the pipe\n",
      "    return_smoothed_path : bool\n",
      "        if the run ends successfully the smoothed path will be sent\n",
      "        back through the pipe\n",
      "    \n",
      "    \"\"\"\n",
      "    def __init__(self, comm, system, min1, min2, pipe_stdout=True,\n",
      "                  return_smoothed_path=True):\n",
      "        mp.Process.__init__(self)\n",
      "        self.comm = comm\n",
      "        self.system = system\n",
      "        self.min1, self.min2 = min1, min2\n",
      "        self.pipe_stdout = pipe_stdout\n",
      "        self.return_smoothed_path = return_smoothed_path\n",
      "        \n",
      "        self.started = False\n",
      "        self.finished = False\n",
      "\n",
      "    def get_smoothed_path(self):\n",
      "        mints, S, energies = self.connect.returnPath()\n",
      "        clist = [m.coords for m in mints]\n",
      "        smoothpath = self.system.smooth_path(clist)\n",
      "        return smoothpath, S, energies\n",
      "    \n",
      "    def test_success(self):\n",
      "        return self.connect.graph.areConnected(self.m1local, self.m2local)\n",
      "    \n",
      "    def clean_up(self):\n",
      "        \"send the lists of transition states and minima back to the parent process\"\n",
      "        minima = [UnboundMinimum(m) for m in self.db.minima()]\n",
      "        tslist = [UnboundTransitionState(ts) for ts in self.db.transition_states()]\n",
      "        self.comm.send((\"new coords\", minima, tslist))\n",
      "        \n",
      "        # return the success status\n",
      "        success = self.test_success()\n",
      "        self.comm.send((\"success\", success))\n",
      "        \n",
      "        if success:\n",
      "            # return the smoothed path, or None if not successful\n",
      "            pathdata = self.get_smoothed_path()\n",
      "            self.comm.send((\"smoothed path\", pathdata))\n",
      "        \n",
      "        # send signal we're done here\n",
      "        self.finished = True\n",
      "        self.comm.send((\"finished\",))\n",
      "    \n",
      "    def terminate_early(self, *args, **kwargs):\n",
      "        sys.stderr.write(\"caught signal, cleaning up and exiting\\n\")\n",
      "        if self.started and not self.finished:\n",
      "            sys.stderr.write(\"starting clean up\\n\")\n",
      "            self.clean_up()\n",
      "            sys.stderr.write(\"finished clean up\\n\")\n",
      "        sys.stderr.write(\"exiting\\n\")\n",
      "        sys.exit(0)\n",
      "    \n",
      "    def do_double_ended_connect(self):\n",
      "        db = self.system.create_database()\n",
      "        self.db = db\n",
      "        \n",
      "        # min1 and min2 are associated with the old database, we need to create\n",
      "        # the minima again using the new database\n",
      "        self.m1local = db.addMinimum(self.min1.energy, self.min1.coords)\n",
      "        self.m2local = db.addMinimum(self.min2.energy, self.min2.coords)\n",
      "        \n",
      "        self.started = True\n",
      "        self.connect = self.system.get_double_ended_connect(self.m1local, self.m2local, db,\n",
      "                                                       fresh_connect=True, load_no_distances=True)\n",
      "        self.connect.connect()\n",
      "    \n",
      "    def run(self):\n",
      "        signal.signal(signal.SIGTERM, self.terminate_early)\n",
      "        signal.signal(signal.SIGINT, self.terminate_early)\n",
      "        if self.pipe_stdout:\n",
      "            self.mylog = OutLog(self.comm)\n",
      "            sys.stdout = self.mylog\n",
      "            logger = logging.getLogger(\"pygmin\")\n",
      "            handles = logger.handlers\n",
      "            for h in handles:\n",
      "                logger.removeHandler(h)\n",
      "            sh = logging.StreamHandler(self.mylog)\n",
      "            logger.addHandler(sh)\n",
      "\n",
      "        self.do_double_ended_connect()\n",
      "        self.clean_up()\n",
      "\n",
      "5. Define the DECRunner class for spawning a double ended connect run in a child process:\n",
      "class DECRunner(QtCore.QObject):\n",
      "    \"\"\"Spawn a double ended connect run in a child process\n",
      "\n",
      "    This will spawn a new process and deal with the communication\n",
      "    \n",
      "    \n",
      "    Parameters\n",
      "    ----------\n",
      "    system : \n",
      "    database : Database\n",
      "        The minima and transition states found will be added to the \n",
      "        database after the connect run is finished\n",
      "    min1, min2 : Munimum objects\n",
      "        the minima to try to connect\n",
      "    outstream : an object with attribute `outstream.write(mystring)`\n",
      "        the log messages from the connect run will be redirected here\n",
      "    return_smoothed_path : bool\n",
      "        if True the final smoothed path will be calculated\n",
      "    \n",
      "    Attributes\n",
      "    ----------\n",
      "    on_finished : Signal\n",
      "        this signal will be called when the connect job is finished\n",
      "    \n",
      "    \"\"\"\n",
      "    def __init__(self, system, database, min1, min2, outstream=None,\n",
      "                  return_smoothed_path=True, daemon=True):\n",
      "        QtCore.QObject.__init__(self)\n",
      "        self.system = system\n",
      "        self.database = database\n",
      "        self.min1, self.min2 = min1, min2\n",
      "        self.return_smoothed_path = return_smoothed_path\n",
      "        self.daemon = daemon\n",
      "        \n",
      "        self.outstream = outstream\n",
      "        \n",
      "        self.on_finished = Signal()\n",
      "        \n",
      "        self.decprocess = None\n",
      "        \n",
      "        self.newminima = set()\n",
      "        self.newtransition_states = set()\n",
      "        self.success = False\n",
      "        self.killed_early = False\n",
      "        self.is_running = False\n",
      "\n",
      "\n",
      "    def poll(self):\n",
      "        \"\"\"this does the checking in the background to see if any messages have been passed\"\"\"\n",
      "        if not self.parent_conn.poll():\n",
      "            return\n",
      "        \n",
      "        message = self.parent_conn.recv()\n",
      "        self.process_message(message)\n",
      "    \n",
      "    def start(self):\n",
      "        \"\"\"start the connect job\"\"\"\n",
      "        if(self.decprocess):\n",
      "            if(self.decprocess.is_alive()):\n",
      "                return\n",
      "        parent_conn, child_conn = mp.Pipe()\n",
      "        self.conn = parent_conn\n",
      "        self.parent_conn = parent_conn\n",
      "        \n",
      "        self.decprocess = DECProcess(child_conn, self.system, self.min1, self.min2,\n",
      "                                     pipe_stdout=(self.outstream is not None))\n",
      "        self.decprocess.daemon = self.daemon\n",
      "        self.decprocess.start()\n",
      "    \n",
      "        self.refresh_timer = QtCore.QTimer() --> Text length need to be between 0 and 5000 characters\n"
     ]
    },
    {
     "name": "stderr",
     "output_type": "stream",
     "text": [
      " 52%|█████▏    | 44224/85371 [14:29:00<10:35:23,  1.08it/s]"
     ]
    },
    {
     "name": "stdout",
     "output_type": "stream",
     "text": [
      "⚠️ Translation error: Write a Python program to collect user input and determine how many numbers in the list are greater than the user's number. --> No translation was found using the current translator. Try another translator?\n"
     ]
    },
    {
     "name": "stderr",
     "output_type": "stream",
     "text": [
      " 52%|█████▏    | 44654/85371 [14:37:41<14:22:43,  1.27s/it]"
     ]
    },
    {
     "name": "stdout",
     "output_type": "stream",
     "text": [
      "⚠️ Translation error: Create an algorithm to calculate the sum of multiples of 3 and 5 below a given limit. --> No translation was found using the current translator. Try another translator?\n"
     ]
    },
    {
     "name": "stderr",
     "output_type": "stream",
     "text": [
      " 52%|█████▏    | 44656/85371 [14:37:42<10:38:22,  1.06it/s]"
     ]
    },
    {
     "name": "stdout",
     "output_type": "stream",
     "text": [
      "⚠️ Translation error: Create a Node.js script that generates a random number between 1 and 10. --> No translation was found using the current translator. Try another translator?\n"
     ]
    },
    {
     "name": "stderr",
     "output_type": "stream",
     "text": [
      " 52%|█████▏    | 44760/85371 [14:39:46<11:08:43,  1.01it/s]"
     ]
    },
    {
     "name": "stdout",
     "output_type": "stream",
     "text": [
      "⚠️ Translation error: Design a code to generate a list of prime numbers from 0 to n. --> No translation was found using the current translator. Try another translator?\n"
     ]
    },
    {
     "name": "stderr",
     "output_type": "stream",
     "text": [
      " 54%|█████▎    | 45706/85371 [14:59:10<11:51:35,  1.08s/it]"
     ]
    },
    {
     "name": "stdout",
     "output_type": "stream",
     "text": [
      "⚠️ Translation error: Generate a SQL query to delete a record with the given ID --> No translation was found using the current translator. Try another translator?\n"
     ]
    },
    {
     "name": "stderr",
     "output_type": "stream",
     "text": [
      " 56%|█████▌    | 47844/85371 [15:40:28<9:37:26,  1.08it/s] "
     ]
    },
    {
     "name": "stdout",
     "output_type": "stream",
     "text": [
      "⚠️ Translation error: Develop a Python logic to check if two given strings are isomorphic to each other. --> No translation was found using the current translator. Try another translator?\n"
     ]
    },
    {
     "name": "stderr",
     "output_type": "stream",
     "text": [
      " 56%|█████▋    | 48138/85371 [15:46:04<10:29:49,  1.01s/it]"
     ]
    },
    {
     "name": "stdout",
     "output_type": "stream",
     "text": [
      "⚠️ Translation error: Write a SQL query to find the 5 oldest employees. --> No translation was found using the current translator. Try another translator?\n"
     ]
    },
    {
     "name": "stderr",
     "output_type": "stream",
     "text": [
      " 57%|█████▋    | 48797/85371 [15:58:40<12:00:12,  1.18s/it]"
     ]
    },
    {
     "name": "stdout",
     "output_type": "stream",
     "text": [
      "⚠️ Translation error: Write a function to find the shortest common supersequence of two sequences. --> No translation was found using the current translator. Try another translator?\n"
     ]
    },
    {
     "name": "stderr",
     "output_type": "stream",
     "text": [
      " 62%|██████▏   | 53161/85371 [17:21:37<9:53:35,  1.11s/it] "
     ]
    },
    {
     "name": "stdout",
     "output_type": "stream",
     "text": [
      "⚠️ Translation error: Generate and print a random maze of size 10x10. --> No translation was found using the current translator. Try another translator?\n"
     ]
    },
    {
     "name": "stderr",
     "output_type": "stream",
     "text": [
      " 62%|██████▏   | 53162/85371 [17:21:38<9:39:44,  1.08s/it]"
     ]
    },
    {
     "name": "stdout",
     "output_type": "stream",
     "text": [
      "⚠️ Translation error: Develop a function that returns a series of values that equal a given number when squared. --> No translation was found using the current translator. Try another translator?\n"
     ]
    },
    {
     "name": "stderr",
     "output_type": "stream",
     "text": [
      " 63%|██████▎   | 53721/85371 [17:32:18<8:16:07,  1.06it/s] "
     ]
    },
    {
     "name": "stdout",
     "output_type": "stream",
     "text": [
      "⚠️ Translation error: Create a Java application for a grocery store with an inventory tracking system. The application should include methods that can add items, remove items, and check availability of items in stock. --> No translation was found using the current translator. Try another translator?\n"
     ]
    },
    {
     "name": "stderr",
     "output_type": "stream",
     "text": [
      " 63%|██████▎   | 53803/85371 [17:33:54<9:35:56,  1.09s/it] "
     ]
    },
    {
     "name": "stdout",
     "output_type": "stream",
     "text": [
      "⚠️ Translation error: Create a message broker server application in Java that will serve as a gateway for multiple microservices. --> No translation was found using the current translator. Try another translator?\n"
     ]
    },
    {
     "name": "stderr",
     "output_type": "stream",
     "text": [
      " 64%|██████▎   | 54363/85371 [17:44:46<8:22:58,  1.03it/s] "
     ]
    },
    {
     "name": "stdout",
     "output_type": "stream",
     "text": [
      "⚠️ Translation error: Construct an interface in Java that takes an integer array and returns the second largest element. --> No translation was found using the current translator. Try another translator?\n"
     ]
    },
    {
     "name": "stderr",
     "output_type": "stream",
     "text": [
      " 64%|██████▍   | 54491/85371 [17:47:20<9:40:38,  1.13s/it] "
     ]
    },
    {
     "name": "stdout",
     "output_type": "stream",
     "text": [
      "⚠️ Translation error: Find the minimum value of the given array. --> No translation was found using the current translator. Try another translator?\n"
     ]
    },
    {
     "name": "stderr",
     "output_type": "stream",
     "text": [
      " 64%|██████▍   | 54500/85371 [17:47:31<9:25:56,  1.10s/it] "
     ]
    },
    {
     "name": "stdout",
     "output_type": "stream",
     "text": [
      "⚠️ Translation error: Create a program to calculate the total bill for a customer given a list of item prices, sales tax rate and other charges. --> No translation was found using the current translator. Try another translator?\n"
     ]
    },
    {
     "name": "stderr",
     "output_type": "stream",
     "text": [
      " 64%|██████▍   | 54501/85371 [17:47:31<8:37:42,  1.01s/it]"
     ]
    },
    {
     "name": "stdout",
     "output_type": "stream",
     "text": [
      "⚠️ Translation error: Design a SQL query to find the average price of an item sold in the past week. --> No translation was found using the current translator. Try another translator?\n"
     ]
    },
    {
     "name": "stderr",
     "output_type": "stream",
     "text": [
      " 64%|██████▍   | 54507/85371 [17:47:39<10:11:29,  1.19s/it]"
     ]
    },
    {
     "name": "stdout",
     "output_type": "stream",
     "text": [
      "⚠️ Translation error: Categorize the given array of strings based on length and store the result in a nested dictionary. --> No translation was found using the current translator. Try another translator?\n"
     ]
    },
    {
     "name": "stderr",
     "output_type": "stream",
     "text": [
      " 64%|██████▍   | 54969/85371 [17:56:47<7:25:14,  1.14it/s] "
     ]
    },
    {
     "name": "stdout",
     "output_type": "stream",
     "text": [
      "⚠️ Translation error: Generate an SQL query to calculate the average age of all users. --> No translation was found using the current translator. Try another translator?\n"
     ]
    },
    {
     "name": "stderr",
     "output_type": "stream",
     "text": [
      " 66%|██████▌   | 56097/85371 [18:18:23<6:19:48,  1.28it/s] "
     ]
    },
    {
     "name": "stdout",
     "output_type": "stream",
     "text": [
      "⚠️ Translation error: Write a function for testing whether a number is prime. The function should provide the correct result for any number between 1 and 100. --> No translation was found using the current translator. Try another translator?\n"
     ]
    },
    {
     "name": "stderr",
     "output_type": "stream",
     "text": [
      " 66%|██████▌   | 56245/85371 [18:21:21<7:10:50,  1.13it/s] "
     ]
    },
    {
     "name": "stdout",
     "output_type": "stream",
     "text": [
      "⚠️ Translation error: Create an API endpoint in Node.js that when called returns a list of dogs and their age. --> No translation was found using the current translator. Try another translator?\n"
     ]
    },
    {
     "name": "stderr",
     "output_type": "stream",
     "text": [
      " 66%|██████▋   | 56689/85371 [18:29:57<7:57:16,  1.00it/s] "
     ]
    },
    {
     "name": "stdout",
     "output_type": "stream",
     "text": [
      "⚠️ Translation error: Write an HTML webpage containing a form that accepts the user's name and email address. --> No translation was found using the current translator. Try another translator?\n"
     ]
    },
    {
     "name": "stderr",
     "output_type": "stream",
     "text": [
      " 66%|██████▋   | 56733/85371 [18:30:48<9:39:12,  1.21s/it] "
     ]
    },
    {
     "name": "stdout",
     "output_type": "stream",
     "text": [
      "⚠️ Translation error: Rewrite the following code snippet in Javascipt. --> No translation was found using the current translator. Try another translator?\n"
     ]
    },
    {
     "name": "stderr",
     "output_type": "stream",
     "text": [
      " 68%|██████▊   | 57911/85371 [18:53:54<7:12:11,  1.06it/s] "
     ]
    },
    {
     "name": "stdout",
     "output_type": "stream",
     "text": [
      "⚠️ Translation error: Create a GUI interface in Python to multiply two matrices. --> No translation was found using the current translator. Try another translator?\n"
     ]
    },
    {
     "name": "stderr",
     "output_type": "stream",
     "text": [
      " 68%|██████▊   | 57922/85371 [18:54:06<6:30:16,  1.17it/s]"
     ]
    },
    {
     "name": "stdout",
     "output_type": "stream",
     "text": [
      "⚠️ Translation error: Create a JavaScript program to simulate the rolling of a die. When run, the program should output a random number between 1 and 6, each number having an equal chance of being selected. --> No translation was found using the current translator. Try another translator?\n"
     ]
    },
    {
     "name": "stderr",
     "output_type": "stream",
     "text": [
      " 68%|██████▊   | 57923/85371 [18:54:07<5:07:09,  1.49it/s]"
     ]
    },
    {
     "name": "stdout",
     "output_type": "stream",
     "text": [
      "⚠️ Translation error: Formulate a vector to represent the following 3D point: (2, 5, 9) --> No translation was found using the current translator. Try another translator?\n"
     ]
    },
    {
     "name": "stderr",
     "output_type": "stream",
     "text": [
      " 69%|██████▉   | 59136/85371 [19:17:19<6:20:10,  1.15it/s] "
     ]
    },
    {
     "name": "stdout",
     "output_type": "stream",
     "text": [
      "⚠️ Translation error: Automate the optimization of a given neural network complexity and hyperparameters to improve its accuracy. --> No translation was found using the current translator. Try another translator?\n",
      "⚠️ Translation error: Write a SQL query to join two tables using a primary key and return specific field values. --> No translation was found using the current translator. Try another translator?\n"
     ]
    },
    {
     "name": "stderr",
     "output_type": "stream",
     "text": [
      " 71%|███████   | 60250/85371 [19:38:27<5:50:10,  1.20it/s] "
     ]
    },
    {
     "name": "stdout",
     "output_type": "stream",
     "text": [
      "⚠️ Translation error: Given an array of numbers, calculate the mean. --> No translation was found using the current translator. Try another translator?\n"
     ]
    },
    {
     "name": "stderr",
     "output_type": "stream",
     "text": [
      " 76%|███████▌  | 64623/85371 [21:02:58<6:25:56,  1.12s/it] "
     ]
    },
    {
     "name": "stdout",
     "output_type": "stream",
     "text": [
      "⚠️ Translation error: Create a function in Python to return the maximum value in a given array. --> No translation was found using the current translator. Try another translator?\n"
     ]
    },
    {
     "name": "stderr",
     "output_type": "stream",
     "text": [
      " 76%|███████▌  | 64987/85371 [21:10:04<6:51:25,  1.21s/it]"
     ]
    },
    {
     "name": "stdout",
     "output_type": "stream",
     "text": [
      "⚠️ Translation error: Create a CSS3 animation with a duration of 5s for a rotating square. --> No translation was found using the current translator. Try another translator?\n"
     ]
    },
    {
     "name": "stderr",
     "output_type": "stream",
     "text": [
      " 76%|███████▌  | 65052/85371 [21:11:19<5:47:11,  1.03s/it]"
     ]
    },
    {
     "name": "stdout",
     "output_type": "stream",
     "text": [
      "⚠️ Translation error: Create a Swift function to convert a decimal number to Roman numerals. --> No translation was found using the current translator. Try another translator?\n"
     ]
    },
    {
     "name": "stderr",
     "output_type": "stream",
     "text": [
      " 76%|███████▋  | 65209/85371 [21:14:18<6:09:15,  1.10s/it] "
     ]
    },
    {
     "name": "stdout",
     "output_type": "stream",
     "text": [
      "⚠️ Translation error: Create a data structure in Java for storing customer information which includes customerID, Name, Address and PhoneNumber. --> No translation was found using the current translator. Try another translator?\n"
     ]
    },
    {
     "name": "stderr",
     "output_type": "stream",
     "text": [
      " 76%|███████▋  | 65292/85371 [21:15:53<5:01:36,  1.11it/s]"
     ]
    },
    {
     "name": "stdout",
     "output_type": "stream",
     "text": [
      "⚠️ Translation error: Generate an array of all the words from a given string. --> No translation was found using the current translator. Try another translator?\n"
     ]
    },
    {
     "name": "stderr",
     "output_type": "stream",
     "text": [
      " 77%|███████▋  | 65946/85371 [21:28:33<4:39:52,  1.16it/s]"
     ]
    },
    {
     "name": "stdout",
     "output_type": "stream",
     "text": [
      "⚠️ Translation error: Create a Google Cloud Function that receives a data input from a sensor device and stores the data in Firebase. --> No translation was found using the current translator. Try another translator?\n"
     ]
    },
    {
     "name": "stderr",
     "output_type": "stream",
     "text": [
      " 77%|███████▋  | 66117/85371 [21:31:56<5:10:08,  1.03it/s] "
     ]
    },
    {
     "name": "stdout",
     "output_type": "stream",
     "text": [
      "⚠️ Translation error: Create a SQL query to query all the customers from a given list of cities. --> No translation was found using the current translator. Try another translator?\n"
     ]
    },
    {
     "name": "stderr",
     "output_type": "stream",
     "text": [
      " 78%|███████▊  | 66975/85371 [21:48:25<6:11:28,  1.21s/it]"
     ]
    },
    {
     "name": "stdout",
     "output_type": "stream",
     "text": [
      "⚠️ Translation error: Create a function in Python that takes two strings and returns the Levenshtein distance between them. --> No translation was found using the current translator. Try another translator?\n"
     ]
    },
    {
     "name": "stderr",
     "output_type": "stream",
     "text": [
      " 79%|███████▊  | 67085/85371 [21:50:33<5:55:05,  1.17s/it] "
     ]
    },
    {
     "name": "stdout",
     "output_type": "stream",
     "text": [
      "⚠️ Translation error: Design a logic to optimize a convoy of ships to travel from port A to port B. --> No translation was found using the current translator. Try another translator?\n"
     ]
    },
    {
     "name": "stderr",
     "output_type": "stream",
     "text": [
      " 79%|███████▊  | 67122/85371 [21:51:45<50:02:06,  9.87s/it]"
     ]
    },
    {
     "name": "stdout",
     "output_type": "stream",
     "text": [
      "⚠️ Translation error: Create a HTML page which displays the current date and time in the center of the page. --> No translation was found using the current translator. Try another translator?\n"
     ]
    },
    {
     "name": "stderr",
     "output_type": "stream",
     "text": [
      " 80%|████████  | 68379/85371 [22:15:32<5:32:13,  1.17s/it] "
     ]
    },
    {
     "name": "stdout",
     "output_type": "stream",
     "text": [
      "⚠️ Translation error: Construct a function to sum all elements of a given dictionary. --> No translation was found using the current translator. Try another translator?\n"
     ]
    },
    {
     "name": "stderr",
     "output_type": "stream",
     "text": [
      " 81%|████████  | 69084/85371 [22:29:43<5:03:41,  1.12s/it]"
     ]
    },
    {
     "name": "stdout",
     "output_type": "stream",
     "text": [
      "⚠️ Translation error: Optimize the following data clearing function in Java. --> No translation was found using the current translator. Try another translator?\n"
     ]
    },
    {
     "name": "stderr",
     "output_type": "stream",
     "text": [
      " 81%|████████  | 69151/85371 [22:31:05<5:36:28,  1.24s/it]"
     ]
    },
    {
     "name": "stdout",
     "output_type": "stream",
     "text": [
      "⚠️ Translation error: Design a MongoDB database to store blog posts. The database should include fields for storing the title, content, author, date, and tags. --> No translation was found using the current translator. Try another translator?\n"
     ]
    },
    {
     "name": "stderr",
     "output_type": "stream",
     "text": [
      " 81%|████████▏ | 69389/85371 [22:35:47<4:16:04,  1.04it/s]"
     ]
    },
    {
     "name": "stdout",
     "output_type": "stream",
     "text": [
      "⚠️ Translation error: Create a basic React application with a List component. The List should render a list of items, and each item should have a delete button. When the delete button is pressed, the item should be removed from the list. --> No translation was found using the current translator. Try another translator?\n"
     ]
    },
    {
     "name": "stderr",
     "output_type": "stream",
     "text": [
      " 81%|████████▏ | 69416/85371 [22:36:12<3:12:41,  1.38it/s]"
     ]
    },
    {
     "name": "stdout",
     "output_type": "stream",
     "text": [
      "⚠️ Translation error: Write a C++ function to calculate e to the power of x. --> No translation was found using the current translator. Try another translator?\n"
     ]
    },
    {
     "name": "stderr",
     "output_type": "stream",
     "text": [
      " 81%|████████▏ | 69417/85371 [22:36:14<3:39:40,  1.21it/s]"
     ]
    },
    {
     "name": "stdout",
     "output_type": "stream",
     "text": [
      "⚠️ Translation error: Create a websockets connection between a server and a client using Java and display messages from the client to the server. --> No translation was found using the current translator. Try another translator?\n"
     ]
    },
    {
     "name": "stderr",
     "output_type": "stream",
     "text": [
      " 83%|████████▎ | 70593/85371 [22:59:12<5:14:36,  1.28s/it]"
     ]
    },
    {
     "name": "stdout",
     "output_type": "stream",
     "text": [
      "⚠️ Translation error: Create a Python function that takes an array as input and returns a dictionary with each element as the key and its frequency as the value. --> No translation was found using the current translator. Try another translator?\n"
     ]
    },
    {
     "name": "stderr",
     "output_type": "stream",
     "text": [
      " 83%|████████▎ | 70816/85371 [23:03:47<4:17:11,  1.06s/it] "
     ]
    },
    {
     "name": "stdout",
     "output_type": "stream",
     "text": [
      "⚠️ Translation error: Write an R program to calculate the median of a numeric array. --> No translation was found using the current translator. Try another translator?\n"
     ]
    },
    {
     "name": "stderr",
     "output_type": "stream",
     "text": [
      " 83%|████████▎ | 70826/85371 [23:03:59<3:55:40,  1.03it/s]"
     ]
    },
    {
     "name": "stdout",
     "output_type": "stream",
     "text": [
      "⚠️ Translation error: Create a program in Python that will calculate the mean of a given set of numbers. --> No translation was found using the current translator. Try another translator?\n"
     ]
    },
    {
     "name": "stderr",
     "output_type": "stream",
     "text": [
      " 83%|████████▎ | 70939/85371 [23:06:08<3:03:06,  1.31it/s]"
     ]
    },
    {
     "name": "stdout",
     "output_type": "stream",
     "text": [
      "⚠️ Translation error: Generate a correct program to iterate through a linked list --> No translation was found using the current translator. Try another translator?\n"
     ]
    },
    {
     "name": "stderr",
     "output_type": "stream",
     "text": [
      " 83%|████████▎ | 71155/85371 [23:10:15<4:11:46,  1.06s/it]"
     ]
    },
    {
     "name": "stdout",
     "output_type": "stream",
     "text": [
      "⚠️ Translation error: Generate a function in JavaScript for converting a given number into binary. --> No translation was found using the current translator. Try another translator?\n"
     ]
    },
    {
     "name": "stderr",
     "output_type": "stream",
     "text": [
      " 84%|████████▍ | 71970/85371 [23:26:03<3:43:58,  1.00s/it]"
     ]
    },
    {
     "name": "stdout",
     "output_type": "stream",
     "text": [
      "⚠️ Translation error: Develop an algorithm to solve an NP-Complete problem in polynomial time, given an input list of word pairs and a target word. --> No translation was found using the current translator. Try another translator?\n"
     ]
    },
    {
     "name": "stderr",
     "output_type": "stream",
     "text": [
      " 85%|████████▍ | 72245/85371 [23:31:32<3:48:27,  1.04s/it]"
     ]
    },
    {
     "name": "stdout",
     "output_type": "stream",
     "text": [
      "⚠️ Translation error: Create a JavaScript program to find the possible subsets of a given list of numbers. --> No translation was found using the current translator. Try another translator?\n"
     ]
    },
    {
     "name": "stderr",
     "output_type": "stream",
     "text": [
      " 86%|████████▋ | 73744/85371 [24:01:17<3:28:14,  1.07s/it]"
     ]
    },
    {
     "name": "stdout",
     "output_type": "stream",
     "text": [
      "⚠️ Translation error: For the given dataset of sales, classify it into 0, 1 and 2. --> No translation was found using the current translator. Try another translator?\n"
     ]
    },
    {
     "name": "stderr",
     "output_type": "stream",
     "text": [
      " 88%|████████▊ | 74709/85371 [24:20:38<2:15:02,  1.32it/s]"
     ]
    },
    {
     "name": "stdout",
     "output_type": "stream",
     "text": [
      "⚠️ Translation error: Develop an algorithm to merge two sorted linked lists into one sorted linked list. --> No translation was found using the current translator. Try another translator?\n"
     ]
    },
    {
     "name": "stderr",
     "output_type": "stream",
     "text": [
      " 88%|████████▊ | 75103/85371 [24:28:19<2:15:16,  1.27it/s]"
     ]
    },
    {
     "name": "stdout",
     "output_type": "stream",
     "text": [
      "⚠️ Translation error: Develop a chatbot for a restaurant ordering system. The chatbot should be able to process orders and provide recommendation based on users' preferences. --> No translation was found using the current translator. Try another translator?\n"
     ]
    },
    {
     "name": "stderr",
     "output_type": "stream",
     "text": [
      " 90%|█████████ | 76939/85371 [25:04:19<10:37:37,  4.54s/it]"
     ]
    },
    {
     "name": "stdout",
     "output_type": "stream",
     "text": [
      "⚠️ Translation error: Request exception can happen due to an api connection error. Please check your connection and try again\n"
     ]
    },
    {
     "name": "stderr",
     "output_type": "stream",
     "text": [
      " 90%|█████████ | 76941/85371 [25:04:39<18:41:04,  7.98s/it]"
     ]
    },
    {
     "name": "stdout",
     "output_type": "stream",
     "text": [
      "⚠️ Translation error: Request exception can happen due to an api connection error. Please check your connection and try again\n"
     ]
    },
    {
     "name": "stderr",
     "output_type": "stream",
     "text": [
      " 90%|█████████ | 76942/85371 [25:04:43<15:35:21,  6.66s/it]"
     ]
    },
    {
     "name": "stdout",
     "output_type": "stream",
     "text": [
      "⚠️ Translation error: Request exception can happen due to an api connection error. Please check your connection and try again\n"
     ]
    },
    {
     "name": "stderr",
     "output_type": "stream",
     "text": [
      " 91%|█████████ | 77471/85371 [25:16:07<2:43:29,  1.24s/it] "
     ]
    },
    {
     "name": "stdout",
     "output_type": "stream",
     "text": [
      "⚠️ Translation error: Use this code to remove \\n and \\t from island_list and commodity_list respectively and print the updated lists:\n",
      "\n",
      "```\n",
      "island_list = ['Armstrong Island', 'Atchafalaya Island', 'Immokalee Island', 'Moultrie Island', 'Sho-ke Island', 'Sirius Island',\n",
      "               'Tumult Island', 'The Beaufort Islands', \"Messier's Crown\", 'Nunataq Island', 'Paollu Island', 'Qaniit Island',\n",
      "               'Ancoraggio Island', 'Fluke Island', 'Kakraphoon Island', 'Eagle Archipelago', 'Cambium Island', \"Hubble's Eye\",\n",
      "               'Ilha da Aguia', 'Ix Chel', 'Manu Island', 'Admiral Island', 'Basset Island', 'Bryher Island', 'Cromwell Island',\n",
      "               'Hook Shelf', 'Isle of Kent', 'Lincoln Island', 'Wensleydale', 'Anegada Island', 'Barnard Island', 'The Lowland Hundred',\n",
      "               'Lyonesse Island', 'Myvatn Island', 'Arakoua Island', 'Aten Island', 'Barbary Island', 'Caravanserai Island',\n",
      "               'Kasidim Island', 'Kiwara Island', 'Terjit Island', 'Tichka Plateau', 'Aimuari Island', 'Chachapoya Island',\n",
      "               'Matariki Island', 'Pukru Island', 'Quetzal Island', 'Saiph Island', 'Toba Island', 'Albatross Island', 'Ambush Island',\n",
      "               'Deadlight Dunes', 'Gauntlet Island', \"Jack's Last Gift\", 'Mirage Island', 'Scurvy Reef', 'Blackthorpe Island', 'Cook Island',\n",
      "               'Descartes Isle', 'Fowler Island', 'Greenwich Island', 'Halley Island', 'Spaniel Island', 'Starfish Island', 'Ventress Island',\n",
      "               'Accompong Island', 'Gallows Island', 'Iocane Island', 'Maia Island', 'Morgana Island', 'Paihia Island', 'Umbarten Island',\n",
      "               'Auk Island', 'Cryo Island', 'Hoarfrost Island', 'Amity Island', 'Bowditch Island', 'Hinga Island', 'Penobscot Island', 'Rowes Island',\n",
      "               'Scrimshaw Island', 'Squibnocket Island', 'Wissahickon Island', 'Ashkelon Arch', 'Kashgar Island', 'Morannon Island', 'Alkaid Island',\n",
      "               'Doyle Island', \"Edgar's Choice\", 'Isle of Keris', 'Marlowe Island', \"McGuffin's Isle\", 'Sayers Rock']\n",
      "\n",
      "\n",
      "commodity_list = [['Hemp', 'Hemp oil', 'Iron', \"Kraken's ink\", 'Lacquer', 'Stone', 'Sugar cane', 'Varnish', 'Wood', '', 'Broom flower', 'Butterfly weed',\n",
      "                   'Cowslip', 'Elderberries', 'Indigo', 'Iris root', 'Lily of the valley', 'Lobelia', 'Madder', 'Nettle', \"Old man's beard\", 'Pokeweed berries',\n",
      "                   'Sassafras', 'Weld', 'Yarrow', '', 'Chalcocite', 'Cubanite', 'Gold nugget', 'Lorandite', 'Leushite', 'Masuyite', 'Papagoite',\n",
      "                   'Serandite', 'Sincosite', 'Tellurium', 'Thorianite', '', 'Bananas', 'Carambolas', 'Coconuts', 'Durians', 'Limes', 'Mangos',\n",
      "                   'Passion fruit', 'Pineapples', 'Pomegranates', 'Rambutan', 'Amber gems', 'Amethyst gems', 'Beryl gems', 'Coral gems',\n",
      "                   'Diamonds', 'Emeralds', 'Jade gems', 'Jasper gems', 'Jet gems', 'Lapis lazuli gems', '  ', 'Moonstones', 'Opals', 'Pearls',\n",
      "                   'Quartz gems', 'Rubies', 'Sapphires', 'Tigereye gems', 'Topaz gems', 'Gold nuggets (mineral)', '', 'Swill', 'Grog', 'Fine rum',\n",
      "                   'Small, medium, and large cannon balls', 'Lifeboats', '', 'Aqua cloth', 'Black cloth', 'Blue cloth', 'Brown cloth', 'Gold cloth',\n",
      "                   'Green cloth', 'Grey cloth', 'Lavender cloth', 'Light green cloth', 'Lime cloth', 'Magenta cloth', 'Maroon cloth', 'Mint cloth',\n",
      "                   'Navy cloth', 'Orange cloth', 'Pink cloth', 'Purple cloth', 'Red cloth', 'Rose cloth', 'Tan cloth', 'Violet cloth', 'White cloth',\n",
      "                   'Yellow cloth', 'Fine aqua cloth', 'Fine black cloth', 'Fine blue cloth', 'Fine brown cloth', 'Fine gold cloth', 'Fine green cloth',\n",
      "                   'Fine grey cloth', 'Fine lavender cloth', 'Fine light green cloth', 'Fine lime cloth', 'Fine magenta cloth', 'Fine maroon cloth',\n",
      "                   'Fine mint cloth', '    ', 'Fine navy cloth', 'Fine orange cloth', 'Fine pink cloth', 'Fine purple cloth', 'Fine red cloth', 'Fine rose cloth',\n",
      "                   'Fine tan cloth', 'Fine violet cloth', 'Fine white cloth', 'Fine yellow cloth', 'Sail cloth', '', 'Blue dye', 'Green dye',\n",
      "                   \"Kraken's blood\", 'Red dye', 'Yellow dye', '', 'Aqua enamel', 'Black enamel', 'Blue enamel', 'Brown enamel', 'Gold enamel',\n",
      "                   'Green enamel', 'Grey enamel', 'Lavender enamel', 'Light green enamel', 'Lime enamel', 'Magenta enamel', 'Maroon enamel', 'Mint enamel',\n",
      "                   'Navy enamel', 'Orange enamel', 'Pink enamel', 'Purple enamel', 'Red enamel', 'Rose enamel', 'Tan enamel', 'Violet enamel', 'White enamel',\n",
      "                   'Yellow enamel', '', 'Aqua paint', 'Black paint', 'Blue paint', 'Brown paint', 'Gold paint', 'Green paint', 'Grey paint', 'Lavender paint',\n",
      "                   'Light green paint', 'Lime paint', 'Magenta paint', 'Maroon paint', 'Mint paint', 'Navy paint', 'Orange paint', 'Pink paint',\n",
      "                   'Purple paint', 'Red paint', 'Rose paint', 'Tan paint', 'Violet paint', 'White paint', 'Yellow paint']]\n",
      "\n",
      "newi_list = [each_item.strip(\"\\n\").strip(\"\\t\") for each_item in island_list]\n",
      "newc_list = [[item.strip(\"\\n\").strip(\"\\t\") for item in sublist] for sublist in commodity_list]\n",
      "\n",
      "print(newi_list)\n",
      "print(\"\\n\")\n",
      "print(newc_list)\n",
      "``` --> Text length need to be between 0 and 5000 characters\n"
     ]
    },
    {
     "name": "stderr",
     "output_type": "stream",
     "text": [
      " 91%|█████████ | 77574/85371 [25:18:04<2:05:20,  1.04it/s]"
     ]
    },
    {
     "name": "stdout",
     "output_type": "stream",
     "text": [
      "⚠️ Translation error: Create a Python script to parse a JSON string and extract data from it. --> No translation was found using the current translator. Try another translator?\n"
     ]
    },
    {
     "name": "stderr",
     "output_type": "stream",
     "text": [
      " 91%|█████████▏| 77925/85371 [25:25:17<6:02:30,  2.92s/it]"
     ]
    },
    {
     "name": "stdout",
     "output_type": "stream",
     "text": [
      "⚠️ Translation error: Request exception can happen due to an api connection error. Please check your connection and try again\n"
     ]
    },
    {
     "name": "stderr",
     "output_type": "stream",
     "text": [
      " 91%|█████████▏| 77927/85371 [25:25:57<24:52:57, 12.03s/it]"
     ]
    },
    {
     "name": "stdout",
     "output_type": "stream",
     "text": [
      "⚠️ Translation error: Request exception can happen due to an api connection error. Please check your connection and try again\n"
     ]
    },
    {
     "name": "stderr",
     "output_type": "stream",
     "text": [
      " 92%|█████████▏| 78852/85371 [25:45:23<2:02:28,  1.13s/it] "
     ]
    },
    {
     "name": "stdout",
     "output_type": "stream",
     "text": [
      "⚠️ Translation error: Create a PowerShell Script to remove duplicates from an array of strings. --> No translation was found using the current translator. Try another translator?\n"
     ]
    },
    {
     "name": "stderr",
     "output_type": "stream",
     "text": [
      " 95%|█████████▍| 81029/85371 [26:29:34<1:23:07,  1.15s/it] "
     ]
    },
    {
     "name": "stdout",
     "output_type": "stream",
     "text": [
      "⚠️ Translation error: Write a Python program to find the closest pair of points using the Euclidean distance. --> No translation was found using the current translator. Try another translator?\n"
     ]
    },
    {
     "name": "stderr",
     "output_type": "stream",
     "text": [
      " 95%|█████████▌| 81104/85371 [26:30:58<1:08:49,  1.03it/s]"
     ]
    },
    {
     "name": "stdout",
     "output_type": "stream",
     "text": [
      "⚠️ Translation error: Create a Java object that represents a 3D point. --> No translation was found using the current translator. Try another translator?\n"
     ]
    },
    {
     "name": "stderr",
     "output_type": "stream",
     "text": [
      " 95%|█████████▌| 81400/85371 [26:36:59<1:32:15,  1.39s/it]"
     ]
    },
    {
     "name": "stdout",
     "output_type": "stream",
     "text": [
      "⚠️ Translation error: Create an HTML page with a form that submits a POST request containing two fields, first name and last name, to a Sinatra application. --> No translation was found using the current translator. Try another translator?\n"
     ]
    },
    {
     "name": "stderr",
     "output_type": "stream",
     "text": [
      " 95%|█████████▌| 81517/85371 [26:39:21<1:08:57,  1.07s/it]"
     ]
    },
    {
     "name": "stdout",
     "output_type": "stream",
     "text": [
      "⚠️ Translation error: Create a JavaScript code snippet that validates a given URL. --> No translation was found using the current translator. Try another translator?\n"
     ]
    },
    {
     "name": "stderr",
     "output_type": "stream",
     "text": [
      " 96%|█████████▌| 81994/85371 [26:48:30<41:00,  1.37it/s]  "
     ]
    },
    {
     "name": "stdout",
     "output_type": "stream",
     "text": [
      "⚠️ Translation error: Create a loop in Python that prints the numbers from 5 to 10 in sequence. --> No translation was found using the current translator. Try another translator?\n",
      "⚠️ Translation error: Construct a fuzzy string matching algorithm to compare strings. --> No translation was found using the current translator. Try another translator?\n"
     ]
    },
    {
     "name": "stderr",
     "output_type": "stream",
     "text": [
      " 96%|█████████▌| 81995/85371 [26:48:31<31:41,  1.78it/s]"
     ]
    },
    {
     "name": "stdout",
     "output_type": "stream",
     "text": [
      "⚠️ Translation error: Develop a neural network for classification of animals into 10 different classes. --> No translation was found using the current translator. Try another translator?\n"
     ]
    },
    {
     "name": "stderr",
     "output_type": "stream",
     "text": [
      " 97%|█████████▋| 82608/85371 [27:00:18<1:19:43,  1.73s/it]"
     ]
    },
    {
     "name": "stdout",
     "output_type": "stream",
     "text": [
      "⚠️ Translation error: Write an elegant SQL query to list the movies in a database divided by genre. --> No translation was found using the current translator. Try another translator?\n"
     ]
    },
    {
     "name": "stderr",
     "output_type": "stream",
     "text": [
      " 98%|█████████▊| 83269/85371 [27:13:12<38:46,  1.11s/it]  "
     ]
    },
    {
     "name": "stdout",
     "output_type": "stream",
     "text": [
      "⚠️ Translation error: Create a SQL query to find the top 5 most populous countries in the world. --> No translation was found using the current translator. Try another translator?\n"
     ]
    },
    {
     "name": "stderr",
     "output_type": "stream",
     "text": [
      " 99%|█████████▉| 84368/85371 [27:34:47<11:46,  1.42it/s]  "
     ]
    },
    {
     "name": "stdout",
     "output_type": "stream",
     "text": [
      "⚠️ Translation error: Create a GUI application in Java that takes two numbers as input from the user, adds them together, and displays the result. --> No translation was found using the current translator. Try another translator?\n"
     ]
    },
    {
     "name": "stderr",
     "output_type": "stream",
     "text": [
      " 99%|█████████▉| 84369/85371 [27:34:48<13:08,  1.27it/s]"
     ]
    },
    {
     "name": "stdout",
     "output_type": "stream",
     "text": [
      "⚠️ Translation error: Compose a SQL query that will select the first 10 people by last name (in alphabetical order) from a table called \"people\". --> No translation was found using the current translator. Try another translator?\n"
     ]
    },
    {
     "name": "stderr",
     "output_type": "stream",
     "text": [
      " 99%|█████████▉| 84393/85371 [27:35:16<14:12,  1.15it/s]"
     ]
    },
    {
     "name": "stdout",
     "output_type": "stream",
     "text": [
      "⚠️ Translation error: Write a Python program to present a web UI to the user. --> No translation was found using the current translator. Try another translator?\n"
     ]
    },
    {
     "name": "stderr",
     "output_type": "stream",
     "text": [
      " 99%|█████████▉| 84609/85371 [27:39:24<13:01,  1.03s/it]"
     ]
    },
    {
     "name": "stdout",
     "output_type": "stream",
     "text": [
      "⚠️ Translation error: Write a code to find the intersecting node in two given linked lists. --> No translation was found using the current translator. Try another translator?\n"
     ]
    },
    {
     "name": "stderr",
     "output_type": "stream",
     "text": [
      " 99%|█████████▉| 84659/85371 [27:40:19<08:02,  1.48it/s]"
     ]
    },
    {
     "name": "stdout",
     "output_type": "stream",
     "text": [
      "⚠️ Translation error: Given a list of integers, write a Python program to count the number of 0s in the list. --> No translation was found using the current translator. Try another translator?\n"
     ]
    },
    {
     "name": "stderr",
     "output_type": "stream",
     "text": [
      " 99%|█████████▉| 84732/85371 [27:41:43<10:05,  1.05it/s]"
     ]
    },
    {
     "name": "stdout",
     "output_type": "stream",
     "text": [
      "⚠️ Translation error: Generate a function to remove repeated characters in a given string. --> No translation was found using the current translator. Try another translator?\n"
     ]
    },
    {
     "name": "stderr",
     "output_type": "stream",
     "text": [
      "100%|██████████| 85371/85371 [27:54:02<00:00,  1.18s/it]\n",
      "\n"
     ]
    },
    {
     "name": "stdout",
     "output_type": "stream",
     "text": [
      "✅ Translated data saved to: Python_Train_ms.jsonl\n",
      "✅ Final cleaned dataset saved to: Python_Train_Data.jsonl\n",
      "✅ Final cleaned dataset saved to: Python_Train_Data.jsonl\n"
     ]
    }
   ],
   "source": [
    "import json\n",
    "from deep_translator import GoogleTranslator\n",
    "from tqdm import tqdm\n",
    "\n",
    "# === Step 1: Translate text ===\n",
    "\n",
    "# File paths\n",
    "input_file = \"cleaned_train.jsonl\"            # English input\n",
    "translated_file = \"Python_Train_ms.jsonl\"    # Intermediate file with both English & Malay\n",
    "final_output_file = \"Python_Train_Data.jsonl\"  # Final output: only Malay prompt + code\n",
    "\n",
    "# Field names\n",
    "source_field = \"instruction\"\n",
    "translated_field = \"text_ms\"\n",
    "\n",
    "translated_data = []\n",
    "\n",
    "print(\"🔄 Translating English prompts to Malay...\")\n",
    "with open(input_file, \"r\", encoding=\"utf-8\") as f:\n",
    "    lines = f.readlines()\n",
    "\n",
    "for line in tqdm(lines):\n",
    "    item = json.loads(line)\n",
    "    english_text = item.get(source_field, \"\")\n",
    "\n",
    "    try:\n",
    "        malay_text = GoogleTranslator(source=\"en\", target=\"ms\").translate(english_text)\n",
    "    except Exception as e:\n",
    "        print(f\"⚠️ Translation error: {e}\")\n",
    "        malay_text = \"[TRANSLATION_FAILED]\"\n",
    "\n",
    "    item[translated_field] = malay_text\n",
    "    translated_data.append(item)\n",
    "\n",
    "# Save intermediate JSONL with English + Malay\n",
    "with open(translated_file, \"w\", encoding=\"utf-8\") as f:\n",
    "    for item in translated_data:\n",
    "        f.write(json.dumps(item, ensure_ascii=False) + \"\\n\")\n",
    "\n",
    "print(f\"✅ Translated data saved to: {translated_file}\")\n",
    "\n",
    "# === Step 2: Extract only Malay + Code ===\n",
    "\n",
    "cleaned_data = []\n",
    "for item in translated_data:\n",
    "    cleaned_item = {\n",
    "        \"instruction\": item.get(\"text_ms\", \"[NO_TRANSLATION]\"),\n",
    "        \"output\": item.get(\"code\", \"\")\n",
    "    }\n",
    "    cleaned_data.append(cleaned_item)\n",
    "\n",
    "# Save final simplified JSONL\n",
    "with open(final_output_file, \"w\", encoding=\"utf-8\") as f:\n",
    "    for item in cleaned_data:\n",
    "        f.write(json.dumps(item, ensure_ascii=False) + \"\\n\")\n",
    "\n",
    "print(f\"✅ Final cleaned dataset saved to: {final_output_file}\")"
   ]
<<<<<<< HEAD
=======
  },
  {
   "cell_type": "code",
   "execution_count": 3,
   "id": "1ad350c3",
   "metadata": {},
   "outputs": [],
   "source": [
    "import json\n",
    "import re\n",
    "\n",
    "# Load the original data (CORRECTED for JSONL format)\n",
    "with open(\"test.jsonl\", \"r\", encoding=\"utf-8\") as f:\n",
    "    data = [json.loads(line.strip()) for line in f if line.strip()]\n",
    "\n",
    "cleaned_data = []\n",
    "\n",
    "for item in data:\n",
    "    prompt = item[\"prompt\"]\n",
    "\n",
    "    # Extract instruction and output using regex\n",
    "    instruction_match = re.search(r\"### Instruction:\\s*(.*?)\\s*### Input:\", prompt, re.DOTALL)\n",
    "    output_match = re.search(r\"### Response:\\s*(.*)\", prompt, re.DOTALL)\n",
    "\n",
    "    if instruction_match and output_match:\n",
    "        instruction = instruction_match.group(1).strip()\n",
    "        output = output_match.group(1).strip()\n",
    "\n",
    "        cleaned_data.append({\n",
    "            \"instruction\": instruction,\n",
    "            \"output\": output\n",
    "        })\n",
    "\n",
    "# Save to cleaned JSONL format\n",
    "with open(\"cleaned_test.jsonl\", \"w\", encoding=\"utf-8\") as f:\n",
    "    for entry in cleaned_data:\n",
    "        f.write(json.dumps(entry, ensure_ascii=False) + \"\\n\")\n"
   ]
  },
  {
   "cell_type": "code",
   "execution_count": 1,
   "id": "957f8675",
   "metadata": {},
   "outputs": [
    {
     "name": "stdout",
     "output_type": "stream",
     "text": [
      "✅ Copied outputs from 85371 entries\n"
     ]
    }
   ],
   "source": [
    "import json\n",
    "\n",
    "# Read the source file (English with outputs)\n",
    "with open(\"cleaned_train.jsonl\", \"r\", encoding=\"utf-8\") as f:\n",
    "    english_data = [json.loads(line.strip()) for line in f if line.strip()]\n",
    "\n",
    "# Read the target file (Malay with empty outputs)\n",
    "with open(\"Python_Train_Data.jsonl\", \"r\", encoding=\"utf-8\") as f:\n",
    "    malay_data = [json.loads(line.strip()) for line in f if line.strip()]\n",
    "\n",
    "# Copy outputs from English to Malay data\n",
    "for i in range(min(len(english_data), len(malay_data))):\n",
    "    malay_data[i][\"output\"] = english_data[i][\"output\"]\n",
    "\n",
    "# Write the updated data back to Python_Train_Data.jsonl\n",
    "with open(\"Python_Train_Data.jsonl\", \"w\", encoding=\"utf-8\") as f:\n",
    "    for item in malay_data:\n",
    "        f.write(json.dumps(item, ensure_ascii=False) + \"\\n\")\n",
    "\n",
    "print(f\"✅ Copied outputs from {len(english_data)} entries\")"
   ]
  },
  {
   "cell_type": "code",
   "execution_count": null,
   "id": "e3b2372b",
   "metadata": {},
   "outputs": [],
   "source": []
>>>>>>> 7bb5e05faf596287796ec710c97d5eb101cce0fe
  }
 ],
 "metadata": {
  "kernelspec": {
   "display_name": "base",
   "language": "python",
   "name": "python3"
  },
  "language_info": {
   "codemirror_mode": {
    "name": "ipython",
    "version": 3
   },
   "file_extension": ".py",
   "mimetype": "text/x-python",
   "name": "python",
   "nbconvert_exporter": "python",
   "pygments_lexer": "ipython3",
   "version": "3.12.7"
  }
 },
 "nbformat": 4,
 "nbformat_minor": 5
}
