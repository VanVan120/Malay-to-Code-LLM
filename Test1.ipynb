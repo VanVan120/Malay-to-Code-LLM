{
 "cells": [
  {
   "cell_type": "code",
   "execution_count": 1,
   "id": "d631f892",
   "metadata": {},
   "outputs": [
    {
     "name": "stderr",
     "output_type": "stream",
     "text": [
      "c:\\Users\\user\\AppData\\Local\\Programs\\Python\\Python313\\Lib\\site-packages\\tqdm\\auto.py:21: TqdmWarning: IProgress not found. Please update jupyter and ipywidgets. See https://ipywidgets.readthedocs.io/en/stable/user_install.html\n",
      "  from .autonotebook import tqdm as notebook_tqdm\n"
     ]
    }
   ],
   "source": [
    "from datasets import load_dataset\n",
    "\n",
    "ds = load_dataset(\"iamtarun/code_instructions_120k_alpaca\")"
   ]
  },
  {
   "cell_type": "code",
   "execution_count": 2,
   "id": "0a11af2e",
   "metadata": {},
   "outputs": [
    {
     "name": "stdout",
     "output_type": "stream",
     "text": [
      "DatasetDict({\n",
      "    train: Dataset({\n",
      "        features: ['instruction', 'input', 'output', 'prompt'],\n",
      "        num_rows: 121959\n",
      "    })\n",
      "})\n"
     ]
    }
   ],
   "source": [
    "# Check keys (splits)\n",
    "print(ds)\n"
   ]
  },
  {
   "cell_type": "code",
   "execution_count": 3,
   "id": "0a01d887",
   "metadata": {},
   "outputs": [],
   "source": [
    "import json\n",
    "\n",
    "# Perform 70-30 train-test split\n",
    "split_dataset = ds['train'].train_test_split(test_size=0.3, seed=42)\n",
    "\n",
    "# Save train data to JSONL\n",
    "with open(\"train.jsonl\", \"w\", encoding=\"utf-8\") as f_train:\n",
    "    for example in split_dataset['train']:\n",
    "        json.dump({\n",
    "            \"prompt\": example[\"prompt\"],\n",
    "            \"output\": example[\"output\"]\n",
    "        }, f_train)\n",
    "        f_train.write('\\n')\n",
    "\n",
    "# Save test data to JSONL\n",
    "with open(\"test.jsonl\", \"w\", encoding=\"utf-8\") as f_test:\n",
    "    for example in split_dataset['test']:\n",
    "        json.dump({\n",
    "            \"prompt\": example[\"prompt\"],\n",
    "            \"output\": example[\"output\"]\n",
    "        }, f_test)\n",
    "        f_test.write('\\n')\n"
   ]
  },
  {
   "cell_type": "code",
   "execution_count": 1,
   "id": "f839c09c",
   "metadata": {},
   "outputs": [
    {
     "name": "stdout",
     "output_type": "stream",
     "text": [
      "🔄 Translating English prompts to Malay...\n"
     ]
    },
    {
     "name": "stderr",
     "output_type": "stream",
     "text": [
      " 48%|████▊     | 4413/9263 [1:37:19<9:19:44,  6.92s/it]"
     ]
    },
    {
     "name": "stdout",
     "output_type": "stream",
     "text": [
      "⚠️ Translation error: ('Connection aborted.', RemoteDisconnected('Remote end closed connection without response'))\n"
     ]
    },
    {
     "name": "stderr",
     "output_type": "stream",
     "text": [
      "100%|██████████| 9263/9263 [3:21:00<00:00,  1.30s/it]  \n"
     ]
    },
    {
     "name": "stdout",
     "output_type": "stream",
     "text": [
      "✅ Translated data saved to: Python_Train_ms.jsonl\n",
      "✅ Final cleaned dataset saved to: Python_Train_Data.jsonl\n"
     ]
    }
   ],
   "source": [
    "import json\n",
    "from deep_translator import GoogleTranslator\n",
    "from tqdm import tqdm\n",
    "\n",
    "# === Step 1: Translate text ===\n",
    "\n",
    "# File paths\n",
    "input_file = \"Python Train.jsonl\"            # English input\n",
    "translated_file = \"Python_Train_ms.jsonl\"    # Intermediate file with both English & Malay\n",
    "final_output_file = \"Python_Train_Data.jsonl\"  # Final output: only Malay prompt + code\n",
    "\n",
    "# Field names\n",
    "source_field = \"text\"\n",
    "translated_field = \"text_ms\"\n",
    "\n",
    "translated_data = []\n",
    "\n",
    "print(\"🔄 Translating English prompts to Malay...\")\n",
    "with open(input_file, \"r\", encoding=\"utf-8\") as f:\n",
    "    lines = f.readlines()\n",
    "\n",
    "for line in tqdm(lines):\n",
    "    item = json.loads(line)\n",
    "    english_text = item.get(source_field, \"\")\n",
    "\n",
    "    try:\n",
    "        malay_text = GoogleTranslator(source=\"en\", target=\"ms\").translate(english_text)\n",
    "    except Exception as e:\n",
    "        print(f\"⚠️ Translation error: {e}\")\n",
    "        malay_text = \"[TRANSLATION_FAILED]\"\n",
    "\n",
    "    item[translated_field] = malay_text\n",
    "    translated_data.append(item)\n",
    "\n",
    "# Save intermediate JSONL with English + Malay\n",
    "with open(translated_file, \"w\", encoding=\"utf-8\") as f:\n",
    "    for item in translated_data:\n",
    "        f.write(json.dumps(item, ensure_ascii=False) + \"\\n\")\n",
    "\n",
    "print(f\"✅ Translated data saved to: {translated_file}\")\n",
    "\n",
    "# === Step 2: Extract only Malay + Code ===\n",
    "\n",
    "cleaned_data = []\n",
    "for item in translated_data:\n",
    "    cleaned_item = {\n",
    "        \"text\": item.get(\"text_ms\", \"[NO_TRANSLATION]\"),\n",
    "        \"code\": item.get(\"code\", \"\")\n",
    "    }\n",
    "    cleaned_data.append(cleaned_item)\n",
    "\n",
    "# Save final simplified JSONL\n",
    "with open(final_output_file, \"w\", encoding=\"utf-8\") as f:\n",
    "    for item in cleaned_data:\n",
    "        f.write(json.dumps(item, ensure_ascii=False) + \"\\n\")\n",
    "\n",
    "print(f\"✅ Final cleaned dataset saved to: {final_output_file}\")"
   ]
  },
  {
   "cell_type": "code",
   "execution_count": null,
   "id": "99c43c98",
   "metadata": {},
   "outputs": [
    {
     "ename": "ApiKeyException",
     "evalue": "None --> \nYou have to pass your api_key!\nYou can do this by passing the key as a parameter/argument to the translator class\nor by setting the environment variable OPEN_API_KEY\n\nExample: export OPEN_API_KEY=\"your_api_key\"\n",
     "output_type": "error",
     "traceback": [
      "\u001b[31m---------------------------------------------------------------------------\u001b[39m",
      "\u001b[31mApiKeyException\u001b[39m                           Traceback (most recent call last)",
      "\u001b[36mCell\u001b[39m\u001b[36m \u001b[39m\u001b[32mIn[1]\u001b[39m\u001b[32m, line 4\u001b[39m\n\u001b[32m      1\u001b[39m \u001b[38;5;28;01mfrom\u001b[39;00m\u001b[38;5;250m \u001b[39m\u001b[34;01mdeep_translator\u001b[39;00m\u001b[38;5;250m \u001b[39m\u001b[38;5;28;01mimport\u001b[39;00m ChatGptTranslator\n\u001b[32m      3\u001b[39m text = \u001b[33m'\u001b[39m\u001b[33mcreate the link list from the given array\u001b[39m\u001b[33m'\u001b[39m\n\u001b[32m----> \u001b[39m\u001b[32m4\u001b[39m translated = \u001b[43mChatGptTranslator\u001b[49m\u001b[43m(\u001b[49m\u001b[43mtarget\u001b[49m\u001b[43m=\u001b[49m\u001b[33;43m'\u001b[39;49m\u001b[33;43mzh-CN\u001b[39;49m\u001b[33;43m'\u001b[39;49m\u001b[43m,\u001b[49m\u001b[43m \u001b[49m\u001b[43msource\u001b[49m\u001b[43m=\u001b[49m\u001b[33;43m'\u001b[39;49m\u001b[33;43men\u001b[39;49m\u001b[33;43m'\u001b[39;49m\u001b[43m)\u001b[49m.translate(text)\n\u001b[32m      5\u001b[39m \u001b[38;5;28mprint\u001b[39m(\u001b[33m\"\u001b[39m\u001b[33mOriginal Text:\u001b[39m\u001b[33m\"\u001b[39m, text)\n\u001b[32m      6\u001b[39m \u001b[38;5;28mprint\u001b[39m(\u001b[33m\"\u001b[39m\u001b[33mTranslated text:\u001b[39m\u001b[33m\"\u001b[39m, translated)\n",
      "\u001b[36mFile \u001b[39m\u001b[32mc:\\Users\\user\\AppData\\Local\\Programs\\Python\\Python313\\Lib\\site-packages\\deep_translator\\chatgpt.py:31\u001b[39m, in \u001b[36mChatGptTranslator.__init__\u001b[39m\u001b[34m(self, source, target, api_key, model, **kwargs)\u001b[39m\n\u001b[32m     25\u001b[39m \u001b[38;5;250m\u001b[39m\u001b[33;03m\"\"\"\u001b[39;00m\n\u001b[32m     26\u001b[39m \u001b[33;03m@param api_key: your openai api key.\u001b[39;00m\n\u001b[32m     27\u001b[39m \u001b[33;03m@param source: source language\u001b[39;00m\n\u001b[32m     28\u001b[39m \u001b[33;03m@param target: target language\u001b[39;00m\n\u001b[32m     29\u001b[39m \u001b[33;03m\"\"\"\u001b[39;00m\n\u001b[32m     30\u001b[39m \u001b[38;5;28;01mif\u001b[39;00m \u001b[38;5;129;01mnot\u001b[39;00m api_key:\n\u001b[32m---> \u001b[39m\u001b[32m31\u001b[39m     \u001b[38;5;28;01mraise\u001b[39;00m ApiKeyException(env_var=OPEN_AI_ENV_VAR)\n\u001b[32m     33\u001b[39m \u001b[38;5;28mself\u001b[39m.api_key = api_key\n\u001b[32m     34\u001b[39m \u001b[38;5;28mself\u001b[39m.model = model\n",
      "\u001b[31mApiKeyException\u001b[39m: None --> \nYou have to pass your api_key!\nYou can do this by passing the key as a parameter/argument to the translator class\nor by setting the environment variable OPEN_API_KEY\n\nExample: export OPEN_API_KEY=\"your_api_key\"\n"
     ]
    }
   ],
   "source": [
    "from deep_translator import ChatGptTranslator\n",
    "\n",
    "text = 'create the link list from the given array'\n",
    "translated = ChatGptTranslator(api_key= \"\", model=\"\", target='zh-CN', source='en').translate(text)\n",
    "print(\"Original Text:\", text)\n",
    "print(\"Translated text:\", translated)"
   ]
  },
  {
   "cell_type": "code",
   "execution_count": null,
   "id": "1ad350c3",
   "metadata": {},
   "outputs": [],
   "source": []
  }
 ],
 "metadata": {
  "kernelspec": {
   "display_name": "Python 3",
   "language": "python",
   "name": "python3"
  },
  "language_info": {
   "codemirror_mode": {
    "name": "ipython",
    "version": 3
   },
   "file_extension": ".py",
   "mimetype": "text/x-python",
   "name": "python",
   "nbconvert_exporter": "python",
   "pygments_lexer": "ipython3",
   "version": "3.13.3"
  }
 },
 "nbformat": 4,
 "nbformat_minor": 5
}
